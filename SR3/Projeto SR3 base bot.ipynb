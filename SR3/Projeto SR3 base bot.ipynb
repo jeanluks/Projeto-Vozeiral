{
 "cells": [
  {
   "cell_type": "markdown",
   "metadata": {},
   "source": [
    "Juntamente com o outro notebook, para esse status, decidimos simular o comportamento e as análises que conteriam na nossa dashboard.\n",
    "Para isto, elaboramos um dataset levando como base os dados que poderiam ser extraídos do nosso bot, a partir das respostas dos próprios ouvintes dos podcasts.\n",
    "\n",
    "O intuito que desejamos, é passar uma análise para que o podcaster possa gerar possíveis insights de melhorias ou algo relacionado ao seu podcast.\n",
    "\n",
    "A priori fizemos algumas análises simples de dados, para entendermos qual era o nicho do podcast e seu público alvo, se ele estava indo bem ou não dependendo das suas notas, etc.\n",
    "\n",
    "Logo após, utilizamos de 4 técnicas de machine learning, sendo elas a de KNN, Random forest, Árvores de decisão e SVM(Support Vector Machine).\n",
    "Para analisar qual das técnicas seria a melhor, levamos como base a accuracy, a precisão, recall e o f1-score."
   ]
  },
  {
   "cell_type": "code",
   "execution_count": 1,
   "metadata": {},
   "outputs": [],
   "source": [
    "import pandas as pd\n",
    "import numpy as np\n",
    "import seaborn as sns\n",
    "import matplotlib.pyplot\n",
    "from sklearn.preprocessing import StandardScaler\n",
    "from sklearn.model_selection import train_test_split\n",
    "\n",
    "import pandas as pd\n",
    "pd.set_option('display.max_columns', None)\n",
    "\n",
    "from sklearn.tree import DecisionTreeClassifier\n",
    "from sklearn.ensemble import RandomForestClassifier\n",
    "from sklearn.linear_model import LogisticRegression\n",
    "from sklearn.neighbors import KNeighborsClassifier\n",
    "from sklearn.svm import SVC\n",
    "from xgboost import XGBClassifier\n",
    "\n",
    "from sklearn.model_selection import train_test_split\n",
    "from sklearn.metrics import accuracy_score, classification_report\n",
    "\n",
    "dataset = pd.read_csv('podcast.csv')"
   ]
  },
  {
   "cell_type": "code",
   "execution_count": 2,
   "metadata": {},
   "outputs": [
    {
     "name": "stdout",
     "output_type": "stream",
     "text": [
      "<class 'pandas.core.frame.DataFrame'>\n",
      "RangeIndex: 1000 entries, 0 to 999\n",
      "Data columns (total 4 columns):\n",
      " #   Column                            Non-Null Count  Dtype\n",
      "---  ------                            --------------  -----\n",
      " 0   idade                             1000 non-null   int64\n",
      " 1   Gênero                            1000 non-null   int64\n",
      " 2   Média de hrs que escuta podcast   1000 non-null   int64\n",
      " 3   Nota que da ao podcast preferido  1000 non-null   int64\n",
      "dtypes: int64(4)\n",
      "memory usage: 31.4 KB\n"
     ]
    }
   ],
   "source": [
    "dataset.info()"
   ]
  },
  {
   "cell_type": "code",
   "execution_count": 3,
   "metadata": {},
   "outputs": [
    {
     "data": {
      "text/html": [
       "<div>\n",
       "<style scoped>\n",
       "    .dataframe tbody tr th:only-of-type {\n",
       "        vertical-align: middle;\n",
       "    }\n",
       "\n",
       "    .dataframe tbody tr th {\n",
       "        vertical-align: top;\n",
       "    }\n",
       "\n",
       "    .dataframe thead th {\n",
       "        text-align: right;\n",
       "    }\n",
       "</style>\n",
       "<table border=\"1\" class=\"dataframe\">\n",
       "  <thead>\n",
       "    <tr style=\"text-align: right;\">\n",
       "      <th></th>\n",
       "      <th>idade</th>\n",
       "      <th>Gênero</th>\n",
       "      <th>Média de hrs que escuta podcast</th>\n",
       "      <th>Nota que da ao podcast preferido</th>\n",
       "    </tr>\n",
       "  </thead>\n",
       "  <tbody>\n",
       "    <tr>\n",
       "      <th>0</th>\n",
       "      <td>26</td>\n",
       "      <td>0</td>\n",
       "      <td>1</td>\n",
       "      <td>6</td>\n",
       "    </tr>\n",
       "    <tr>\n",
       "      <th>1</th>\n",
       "      <td>49</td>\n",
       "      <td>0</td>\n",
       "      <td>3</td>\n",
       "      <td>9</td>\n",
       "    </tr>\n",
       "    <tr>\n",
       "      <th>2</th>\n",
       "      <td>26</td>\n",
       "      <td>0</td>\n",
       "      <td>2</td>\n",
       "      <td>1</td>\n",
       "    </tr>\n",
       "    <tr>\n",
       "      <th>3</th>\n",
       "      <td>64</td>\n",
       "      <td>1</td>\n",
       "      <td>2</td>\n",
       "      <td>4</td>\n",
       "    </tr>\n",
       "    <tr>\n",
       "      <th>4</th>\n",
       "      <td>50</td>\n",
       "      <td>1</td>\n",
       "      <td>4</td>\n",
       "      <td>10</td>\n",
       "    </tr>\n",
       "  </tbody>\n",
       "</table>\n",
       "</div>"
      ],
      "text/plain": [
       "   idade  Gênero  Média de hrs que escuta podcast  \\\n",
       "0     26       0                                1   \n",
       "1     49       0                                3   \n",
       "2     26       0                                2   \n",
       "3     64       1                                2   \n",
       "4     50       1                                4   \n",
       "\n",
       "   Nota que da ao podcast preferido  \n",
       "0                                 6  \n",
       "1                                 9  \n",
       "2                                 1  \n",
       "3                                 4  \n",
       "4                                10  "
      ]
     },
     "execution_count": 3,
     "metadata": {},
     "output_type": "execute_result"
    }
   ],
   "source": [
    "dataset.head()"
   ]
  },
  {
   "cell_type": "code",
   "execution_count": 4,
   "metadata": {},
   "outputs": [
    {
     "data": {
      "text/html": [
       "<div>\n",
       "<style scoped>\n",
       "    .dataframe tbody tr th:only-of-type {\n",
       "        vertical-align: middle;\n",
       "    }\n",
       "\n",
       "    .dataframe tbody tr th {\n",
       "        vertical-align: top;\n",
       "    }\n",
       "\n",
       "    .dataframe thead th {\n",
       "        text-align: right;\n",
       "    }\n",
       "</style>\n",
       "<table border=\"1\" class=\"dataframe\">\n",
       "  <thead>\n",
       "    <tr style=\"text-align: right;\">\n",
       "      <th></th>\n",
       "      <th>idade</th>\n",
       "      <th>Gênero</th>\n",
       "      <th>Média de hrs que escuta podcast</th>\n",
       "      <th>Nota que da ao podcast preferido</th>\n",
       "    </tr>\n",
       "  </thead>\n",
       "  <tbody>\n",
       "    <tr>\n",
       "      <th>count</th>\n",
       "      <td>1000.00000</td>\n",
       "      <td>1000.000000</td>\n",
       "      <td>1000.000000</td>\n",
       "      <td>1000.000000</td>\n",
       "    </tr>\n",
       "    <tr>\n",
       "      <th>mean</th>\n",
       "      <td>43.10700</td>\n",
       "      <td>0.521000</td>\n",
       "      <td>3.034000</td>\n",
       "      <td>4.991000</td>\n",
       "    </tr>\n",
       "    <tr>\n",
       "      <th>std</th>\n",
       "      <td>15.84963</td>\n",
       "      <td>0.499809</td>\n",
       "      <td>2.065699</td>\n",
       "      <td>3.185446</td>\n",
       "    </tr>\n",
       "    <tr>\n",
       "      <th>min</th>\n",
       "      <td>16.00000</td>\n",
       "      <td>0.000000</td>\n",
       "      <td>0.000000</td>\n",
       "      <td>0.000000</td>\n",
       "    </tr>\n",
       "    <tr>\n",
       "      <th>25%</th>\n",
       "      <td>30.00000</td>\n",
       "      <td>0.000000</td>\n",
       "      <td>1.000000</td>\n",
       "      <td>2.000000</td>\n",
       "    </tr>\n",
       "    <tr>\n",
       "      <th>50%</th>\n",
       "      <td>44.00000</td>\n",
       "      <td>1.000000</td>\n",
       "      <td>3.000000</td>\n",
       "      <td>5.000000</td>\n",
       "    </tr>\n",
       "    <tr>\n",
       "      <th>75%</th>\n",
       "      <td>57.00000</td>\n",
       "      <td>1.000000</td>\n",
       "      <td>5.000000</td>\n",
       "      <td>8.000000</td>\n",
       "    </tr>\n",
       "    <tr>\n",
       "      <th>max</th>\n",
       "      <td>70.00000</td>\n",
       "      <td>1.000000</td>\n",
       "      <td>6.000000</td>\n",
       "      <td>10.000000</td>\n",
       "    </tr>\n",
       "  </tbody>\n",
       "</table>\n",
       "</div>"
      ],
      "text/plain": [
       "            idade       Gênero  Média de hrs que escuta podcast  \\\n",
       "count  1000.00000  1000.000000                      1000.000000   \n",
       "mean     43.10700     0.521000                         3.034000   \n",
       "std      15.84963     0.499809                         2.065699   \n",
       "min      16.00000     0.000000                         0.000000   \n",
       "25%      30.00000     0.000000                         1.000000   \n",
       "50%      44.00000     1.000000                         3.000000   \n",
       "75%      57.00000     1.000000                         5.000000   \n",
       "max      70.00000     1.000000                         6.000000   \n",
       "\n",
       "       Nota que da ao podcast preferido  \n",
       "count                       1000.000000  \n",
       "mean                           4.991000  \n",
       "std                            3.185446  \n",
       "min                            0.000000  \n",
       "25%                            2.000000  \n",
       "50%                            5.000000  \n",
       "75%                            8.000000  \n",
       "max                           10.000000  "
      ]
     },
     "execution_count": 4,
     "metadata": {},
     "output_type": "execute_result"
    }
   ],
   "source": [
    "dataset.describe()"
   ]
  },
  {
   "cell_type": "markdown",
   "metadata": {},
   "source": [
    "## Nessa visualização desejamos ter uma noção de qual era a faixa etária que mais consumia podcast"
   ]
  },
  {
   "cell_type": "code",
   "execution_count": 5,
   "metadata": {},
   "outputs": [
    {
     "data": {
      "text/plain": [
       "<matplotlib.axes._subplots.AxesSubplot at 0x2519acbb850>"
      ]
     },
     "execution_count": 5,
     "metadata": {},
     "output_type": "execute_result"
    },
    {
     "data": {
      "image/png": "[encoded data removed]",
      "text/plain": [
       "<Figure size 432x288 with 1 Axes>"
      ]
     },
     "metadata": {},
     "output_type": "display_data"
    }
   ],
   "source": [
    "data = [1.5]*7 + [2.5]*2 + [3.5]*8 + [4.5]*3 + [5.5]*1 + [6.5]*8\n",
    "sns.set_style('whitegrid')\n",
    "sns.distplot(dataset['idade'].dropna())"
   ]
  },
  {
   "cell_type": "code",
   "execution_count": 6,
   "metadata": {},
   "outputs": [
    {
     "name": "stderr",
     "output_type": "stream",
     "text": [
      "C:\\Users\\Jean\\anaconda3\\lib\\site-packages\\seaborn\\categorical.py:3666: UserWarning: The `factorplot` function has been renamed to `catplot`. The original name will be removed in a future release. Please update your code. Note that the default `kind` in `factorplot` (`'point'`) has changed `'strip'` in `catplot`.\n",
      "  warnings.warn(msg)\n"
     ]
    },
    {
     "data": {
      "text/plain": [
       "<seaborn.axisgrid.FacetGrid at 0x2519ad39d00>"
      ]
     },
     "execution_count": 6,
     "metadata": {},
     "output_type": "execute_result"
    },
    {
     "data": {
      "image/png": "[encoded data removed]",
      "text/plain": [
       "<Figure size 360x360 with 1 Axes>"
      ]
     },
     "metadata": {},
     "output_type": "display_data"
    }
   ],
   "source": [
    "sns.factorplot('Gênero', data=dataset, kind='count')"
   ]
  },
  {
   "cell_type": "code",
   "execution_count": 7,
   "metadata": {},
   "outputs": [
    {
     "data": {
      "text/plain": [
       "<seaborn.axisgrid.FacetGrid at 0x2519acbb8b0>"
      ]
     },
     "execution_count": 7,
     "metadata": {},
     "output_type": "execute_result"
    },
    {
     "data": {
      "image/png": "[encoded data removed]",
      "text/plain": [
       "<Figure size 360x360 with 1 Axes>"
      ]
     },
     "metadata": {},
     "output_type": "display_data"
    }
   ],
   "source": [
    "sns.factorplot('Média de hrs que escuta podcast', data=dataset, kind='count')"
   ]
  },
  {
   "cell_type": "code",
   "execution_count": 8,
   "metadata": {},
   "outputs": [
    {
     "data": {
      "text/plain": [
       "<matplotlib.axes._subplots.AxesSubplot at 0x2519aecaa90>"
      ]
     },
     "execution_count": 8,
     "metadata": {},
     "output_type": "execute_result"
    },
    {
     "data": {
      "image/png": "[encoded data removed]",
      "text/plain": [
       "<Figure size 432x288 with 1 Axes>"
      ]
     },
     "metadata": {},
     "output_type": "display_data"
    }
   ],
   "source": [
    "data = [1.5]*7 + [2.5]*2 + [3.5]*8 + [4.5]*3 + [5.5]*1 + [6.5]*8\n",
    "sns.set_style('whitegrid')\n",
    "sns.distplot(dataset['Nota que da ao podcast preferido'].dropna())"
   ]
  },
  {
   "cell_type": "code",
   "execution_count": 9,
   "metadata": {},
   "outputs": [
    {
     "data": {
      "text/plain": [
       "45    0.029\n",
       "62    0.027\n",
       "21    0.023\n",
       "65    0.023\n",
       "51    0.023\n",
       "54    0.022\n",
       "17    0.022\n",
       "44    0.022\n",
       "57    0.022\n",
       "52    0.022\n",
       "70    0.021\n",
       "29    0.021\n",
       "36    0.021\n",
       "39    0.021\n",
       "50    0.021\n",
       "43    0.021\n",
       "56    0.021\n",
       "24    0.020\n",
       "32    0.020\n",
       "34    0.020\n",
       "49    0.020\n",
       "22    0.020\n",
       "25    0.020\n",
       "33    0.020\n",
       "19    0.019\n",
       "67    0.019\n",
       "64    0.019\n",
       "53    0.018\n",
       "30    0.018\n",
       "31    0.017\n",
       "28    0.017\n",
       "68    0.017\n",
       "35    0.017\n",
       "16    0.017\n",
       "60    0.017\n",
       "63    0.017\n",
       "41    0.017\n",
       "59    0.017\n",
       "37    0.016\n",
       "69    0.016\n",
       "23    0.016\n",
       "38    0.016\n",
       "18    0.015\n",
       "20    0.015\n",
       "48    0.015\n",
       "26    0.015\n",
       "46    0.014\n",
       "42    0.013\n",
       "40    0.013\n",
       "58    0.013\n",
       "47    0.012\n",
       "61    0.012\n",
       "66    0.012\n",
       "55    0.011\n",
       "27    0.008\n",
       "Name: idade, dtype: float64"
      ]
     },
     "execution_count": 9,
     "metadata": {},
     "output_type": "execute_result"
    }
   ],
   "source": [
    "dataset['idade'].value_counts(normalize=True)"
   ]
  },
  {
   "cell_type": "markdown",
   "metadata": {},
   "source": [
    "### Dividimos o nosso dataset em treino e teste, para que assim podessemos aplicar os modelos"
   ]
  },
  {
   "cell_type": "code",
   "execution_count": 10,
   "metadata": {},
   "outputs": [],
   "source": [
    "X= dataset.drop('Nota que da ao podcast preferido', axis=1)\n",
    "y= dataset['idade']\n",
    "\n",
    "X_train, X_test, y_train, y_test= train_test_split(X,y, test_size= 0.25)"
   ]
  },
  {
   "cell_type": "markdown",
   "metadata": {},
   "source": [
    "### Utilizando do modelo de Random forest, Árvore de decisão, SVM e KNN, vamos medir a sua performances para os valores inputados"
   ]
  },
  {
   "cell_type": "code",
   "execution_count": 11,
   "metadata": {},
   "outputs": [
    {
     "name": "stdout",
     "output_type": "stream",
     "text": [
      "The accuracy of model DecisionTreeClassifier is 1.00\n",
      "              precision    recall  f1-score   support\n",
      "\n",
      "          16       1.00      1.00      1.00         6\n",
      "          17       1.00      1.00      1.00         5\n",
      "          18       1.00      1.00      1.00         1\n",
      "          19       1.00      1.00      1.00         7\n",
      "          20       1.00      1.00      1.00         7\n",
      "          21       1.00      1.00      1.00         4\n",
      "          22       1.00      1.00      1.00         5\n",
      "          23       1.00      1.00      1.00         2\n",
      "          24       1.00      1.00      1.00         2\n",
      "          25       1.00      1.00      1.00         6\n",
      "          26       1.00      1.00      1.00         4\n",
      "          27       1.00      1.00      1.00         1\n",
      "          28       1.00      1.00      1.00         5\n",
      "          29       1.00      1.00      1.00         7\n",
      "          30       1.00      1.00      1.00         9\n",
      "          31       1.00      1.00      1.00         6\n",
      "          32       1.00      1.00      1.00         4\n",
      "          33       1.00      1.00      1.00         5\n",
      "          34       1.00      1.00      1.00         3\n",
      "          35       1.00      1.00      1.00         3\n",
      "          36       1.00      1.00      1.00         4\n",
      "          37       1.00      1.00      1.00         3\n",
      "          38       1.00      1.00      1.00         4\n",
      "          39       1.00      1.00      1.00         4\n",
      "          40       1.00      1.00      1.00         4\n",
      "          41       1.00      1.00      1.00         2\n",
      "          42       1.00      1.00      1.00         2\n",
      "          43       1.00      1.00      1.00         7\n",
      "          44       1.00      1.00      1.00         4\n",
      "          45       1.00      1.00      1.00         7\n",
      "          46       1.00      1.00      1.00         6\n",
      "          47       1.00      1.00      1.00         3\n",
      "          48       1.00      1.00      1.00         6\n",
      "          50       1.00      1.00      1.00         3\n",
      "          51       1.00      1.00      1.00         1\n",
      "          52       1.00      1.00      1.00         8\n",
      "          53       1.00      1.00      1.00         7\n",
      "          54       1.00      1.00      1.00         4\n",
      "          55       1.00      1.00      1.00         1\n",
      "          56       1.00      1.00      1.00         5\n",
      "          57       1.00      1.00      1.00         4\n",
      "          58       1.00      1.00      1.00         3\n",
      "          59       1.00      1.00      1.00         6\n",
      "          60       1.00      1.00      1.00         4\n",
      "          61       1.00      1.00      1.00         5\n",
      "          62       1.00      1.00      1.00        10\n",
      "          63       1.00      1.00      1.00         4\n",
      "          64       1.00      1.00      1.00         3\n",
      "          65       1.00      1.00      1.00         7\n",
      "          66       1.00      1.00      1.00         3\n",
      "          67       1.00      1.00      1.00         6\n",
      "          68       1.00      1.00      1.00         8\n",
      "          69       1.00      1.00      1.00         4\n",
      "          70       1.00      1.00      1.00         6\n",
      "\n",
      "    accuracy                           1.00       250\n",
      "   macro avg       1.00      1.00      1.00       250\n",
      "weighted avg       1.00      1.00      1.00       250\n",
      "\n",
      "\n",
      "\n",
      "The accuracy of model RandomForestClassifier is 0.65\n",
      "              precision    recall  f1-score   support\n",
      "\n",
      "          16       0.83      0.83      0.83         6\n",
      "          17       0.80      0.80      0.80         5\n",
      "          18       0.33      1.00      0.50         1\n",
      "          19       0.75      0.43      0.55         7\n",
      "          20       0.75      0.86      0.80         7\n",
      "          21       0.80      1.00      0.89         4\n",
      "          22       0.80      0.80      0.80         5\n",
      "          23       1.00      0.50      0.67         2\n",
      "          24       0.67      1.00      0.80         2\n",
      "          25       0.62      0.83      0.71         6\n",
      "          26       0.50      0.25      0.33         4\n",
      "          27       0.00      0.00      0.00         1\n",
      "          28       0.60      0.60      0.60         5\n",
      "          29       0.56      0.71      0.63         7\n",
      "          30       0.67      0.44      0.53         9\n",
      "          31       0.80      0.67      0.73         6\n",
      "          32       0.57      1.00      0.73         4\n",
      "          33       0.60      0.60      0.60         5\n",
      "          34       0.25      0.33      0.29         3\n",
      "          35       0.50      0.33      0.40         3\n",
      "          36       0.75      0.75      0.75         4\n",
      "          37       1.00      0.67      0.80         3\n",
      "          38       1.00      0.50      0.67         4\n",
      "          39       0.44      1.00      0.62         4\n",
      "          40       0.33      0.25      0.29         4\n",
      "          41       0.00      0.00      0.00         2\n",
      "          42       0.20      0.50      0.29         2\n",
      "          43       0.75      0.43      0.55         7\n",
      "          44       1.00      0.75      0.86         4\n",
      "          45       0.64      1.00      0.78         7\n",
      "          46       1.00      0.17      0.29         6\n",
      "          47       0.67      0.67      0.67         3\n",
      "          48       1.00      0.67      0.80         6\n",
      "          49       0.00      0.00      0.00         0\n",
      "          50       1.00      1.00      1.00         3\n",
      "          51       0.25      1.00      0.40         1\n",
      "          52       0.86      0.75      0.80         8\n",
      "          53       1.00      0.71      0.83         7\n",
      "          54       0.75      0.75      0.75         4\n",
      "          55       0.50      1.00      0.67         1\n",
      "          56       0.75      0.60      0.67         5\n",
      "          57       0.33      0.50      0.40         4\n",
      "          58       0.50      0.67      0.57         3\n",
      "          59       0.33      0.17      0.22         6\n",
      "          60       0.40      0.50      0.44         4\n",
      "          61       1.00      0.80      0.89         5\n",
      "          62       0.83      1.00      0.91        10\n",
      "          63       1.00      0.25      0.40         4\n",
      "          64       0.60      1.00      0.75         3\n",
      "          65       0.83      0.71      0.77         7\n",
      "          66       0.50      0.67      0.57         3\n",
      "          67       0.50      0.83      0.62         6\n",
      "          68       0.50      0.25      0.33         8\n",
      "          69       0.67      0.50      0.57         4\n",
      "          70       0.83      0.83      0.83         6\n",
      "\n",
      "    accuracy                           0.65       250\n",
      "   macro avg       0.64      0.63      0.60       250\n",
      "weighted avg       0.70      0.65      0.64       250\n",
      "\n",
      "\n",
      "\n"
     ]
    },
    {
     "name": "stderr",
     "output_type": "stream",
     "text": [
      "C:\\Users\\Jean\\anaconda3\\lib\\site-packages\\sklearn\\metrics\\_classification.py:1221: UndefinedMetricWarning: Precision and F-score are ill-defined and being set to 0.0 in labels with no predicted samples. Use `zero_division` parameter to control this behavior.\n",
      "  _warn_prf(average, modifier, msg_start, len(result))\n",
      "C:\\Users\\Jean\\anaconda3\\lib\\site-packages\\sklearn\\metrics\\_classification.py:1221: UndefinedMetricWarning: Recall and F-score are ill-defined and being set to 0.0 in labels with no true samples. Use `zero_division` parameter to control this behavior.\n",
      "  _warn_prf(average, modifier, msg_start, len(result))\n"
     ]
    }
   ],
   "source": [
    "tree= DecisionTreeClassifier(random_state=24)\n",
    "forest= RandomForestClassifier(random_state=24)\n",
    "\n",
    "models= [tree, forest]\n",
    "\n",
    "for model in models:\n",
    "    model.fit(X_train, y_train)\n",
    "    y_pred= model.predict(X_test)\n",
    "    accuracy= accuracy_score(y_test, y_pred)\n",
    "    clf_report= classification_report(y_test, y_pred) \n",
    "    print(f\"The accuracy of model {type(model).__name__} is {accuracy:.2f}\")\n",
    "    print(clf_report)\n",
    "    print(\"\\n\")"
   ]
  },
  {
   "cell_type": "code",
   "execution_count": 12,
   "metadata": {},
   "outputs": [
    {
     "name": "stdout",
     "output_type": "stream",
     "text": [
      "The accuracy of model KNeighborsClassifier is 0.80\n",
      "              precision    recall  f1-score   support\n",
      "\n",
      "          16       1.00      0.83      0.91         6\n",
      "          17       0.83      1.00      0.91         5\n",
      "          18       1.00      1.00      1.00         1\n",
      "          19       0.78      1.00      0.88         7\n",
      "          20       1.00      0.71      0.83         7\n",
      "          21       0.80      1.00      0.89         4\n",
      "          22       0.80      0.80      0.80         5\n",
      "          23       1.00      0.50      0.67         2\n",
      "          24       1.00      1.00      1.00         2\n",
      "          25       0.86      1.00      0.92         6\n",
      "          26       0.75      0.75      0.75         4\n",
      "          27       0.00      0.00      0.00         1\n",
      "          28       0.80      0.80      0.80         5\n",
      "          29       0.50      0.71      0.59         7\n",
      "          30       0.62      0.56      0.59         9\n",
      "          31       1.00      0.67      0.80         6\n",
      "          32       0.80      1.00      0.89         4\n",
      "          33       1.00      0.80      0.89         5\n",
      "          34       1.00      1.00      1.00         3\n",
      "          35       1.00      1.00      1.00         3\n",
      "          36       0.80      1.00      0.89         4\n",
      "          37       1.00      0.67      0.80         3\n",
      "          38       1.00      1.00      1.00         4\n",
      "          39       0.80      1.00      0.89         4\n",
      "          40       0.75      0.75      0.75         4\n",
      "          41       0.50      0.50      0.50         2\n",
      "          42       0.50      0.50      0.50         2\n",
      "          43       1.00      0.86      0.92         7\n",
      "          44       0.75      0.75      0.75         4\n",
      "          45       0.55      0.86      0.67         7\n",
      "          46       0.67      0.33      0.44         6\n",
      "          47       1.00      0.67      0.80         3\n",
      "          48       1.00      0.83      0.91         6\n",
      "          49       0.00      0.00      0.00         0\n",
      "          50       1.00      1.00      1.00         3\n",
      "          51       0.20      1.00      0.33         1\n",
      "          52       1.00      0.50      0.67         8\n",
      "          53       1.00      1.00      1.00         7\n",
      "          54       1.00      1.00      1.00         4\n",
      "          55       0.50      1.00      0.67         1\n",
      "          56       1.00      0.80      0.89         5\n",
      "          57       0.80      1.00      0.89         4\n",
      "          58       0.50      0.67      0.57         3\n",
      "          59       1.00      0.67      0.80         6\n",
      "          60       0.80      1.00      0.89         4\n",
      "          61       1.00      0.60      0.75         5\n",
      "          62       0.77      1.00      0.87        10\n",
      "          63       1.00      0.50      0.67         4\n",
      "          64       0.75      1.00      0.86         3\n",
      "          65       0.86      0.86      0.86         7\n",
      "          66       1.00      0.67      0.80         3\n",
      "          67       0.75      1.00      0.86         6\n",
      "          68       0.67      0.75      0.71         8\n",
      "          69       0.50      0.25      0.33         4\n",
      "          70       1.00      0.83      0.91         6\n",
      "\n",
      "    accuracy                           0.80       250\n",
      "   macro avg       0.80      0.78      0.77       250\n",
      "weighted avg       0.84      0.80      0.80       250\n",
      "\n",
      "\n",
      "\n",
      "The accuracy of model SVC is 0.08\n",
      "              precision    recall  f1-score   support\n",
      "\n",
      "          16       0.00      0.00      0.00         6\n",
      "          17       0.00      0.00      0.00         5\n",
      "          18       0.00      0.00      0.00         1\n",
      "          19       0.00      0.00      0.00         7\n",
      "          20       0.00      0.00      0.00         7\n",
      "          21       0.08      1.00      0.15         4\n",
      "          22       0.00      0.00      0.00         5\n",
      "          23       0.00      0.00      0.00         2\n",
      "          24       0.00      0.00      0.00         2\n",
      "          25       0.00      0.00      0.00         6\n",
      "          26       0.00      0.00      0.00         4\n",
      "          27       0.00      0.00      0.00         1\n",
      "          28       0.00      0.00      0.00         5\n",
      "          29       0.00      0.00      0.00         7\n",
      "          30       0.00      0.00      0.00         9\n",
      "          31       0.00      0.00      0.00         6\n",
      "          32       0.00      0.00      0.00         4\n",
      "          33       0.00      0.00      0.00         5\n",
      "          34       0.09      1.00      0.16         3\n",
      "          35       0.00      0.00      0.00         3\n",
      "          36       0.31      1.00      0.47         4\n",
      "          37       0.00      0.00      0.00         3\n",
      "          38       0.00      0.00      0.00         4\n",
      "          39       0.00      0.00      0.00         4\n",
      "          40       0.00      0.00      0.00         4\n",
      "          41       0.00      0.00      0.00         2\n",
      "          42       0.00      0.00      0.00         2\n",
      "          43       0.00      0.00      0.00         7\n",
      "          44       0.00      0.00      0.00         4\n",
      "          45       0.22      1.00      0.36         7\n",
      "          46       0.00      0.00      0.00         6\n",
      "          47       0.00      0.00      0.00         3\n",
      "          48       0.00      0.00      0.00         6\n",
      "          50       0.00      0.00      0.00         3\n",
      "          51       0.03      1.00      0.05         1\n",
      "          52       0.00      0.00      0.00         8\n",
      "          53       0.00      0.00      0.00         7\n",
      "          54       0.00      0.00      0.00         4\n",
      "          55       0.00      0.00      0.00         1\n",
      "          56       0.00      0.00      0.00         5\n",
      "          57       0.03      0.25      0.06         4\n",
      "          58       0.00      0.00      0.00         3\n",
      "          59       0.00      0.00      0.00         6\n",
      "          60       0.00      0.00      0.00         4\n",
      "          61       0.00      0.00      0.00         5\n",
      "          62       0.00      0.00      0.00        10\n",
      "          63       0.00      0.00      0.00         4\n",
      "          64       0.00      0.00      0.00         3\n",
      "          65       0.00      0.00      0.00         7\n",
      "          66       0.00      0.00      0.00         3\n",
      "          67       0.00      0.00      0.00         6\n",
      "          68       0.00      0.00      0.00         8\n",
      "          69       0.00      0.00      0.00         4\n",
      "          70       0.00      0.00      0.00         6\n",
      "\n",
      "    accuracy                           0.08       250\n",
      "   macro avg       0.01      0.10      0.02       250\n",
      "weighted avg       0.01      0.08      0.02       250\n",
      "\n",
      "\n",
      "\n"
     ]
    },
    {
     "name": "stderr",
     "output_type": "stream",
     "text": [
      "C:\\Users\\Jean\\anaconda3\\lib\\site-packages\\sklearn\\metrics\\_classification.py:1221: UndefinedMetricWarning: Precision and F-score are ill-defined and being set to 0.0 in labels with no predicted samples. Use `zero_division` parameter to control this behavior.\n",
      "  _warn_prf(average, modifier, msg_start, len(result))\n",
      "C:\\Users\\Jean\\anaconda3\\lib\\site-packages\\sklearn\\metrics\\_classification.py:1221: UndefinedMetricWarning: Recall and F-score are ill-defined and being set to 0.0 in labels with no true samples. Use `zero_division` parameter to control this behavior.\n",
      "  _warn_prf(average, modifier, msg_start, len(result))\n",
      "C:\\Users\\Jean\\anaconda3\\lib\\site-packages\\sklearn\\metrics\\_classification.py:1221: UndefinedMetricWarning: Precision and F-score are ill-defined and being set to 0.0 in labels with no predicted samples. Use `zero_division` parameter to control this behavior.\n",
      "  _warn_prf(average, modifier, msg_start, len(result))\n"
     ]
    }
   ],
   "source": [
    "knn= KNeighborsClassifier()\n",
    "svm= SVC(random_state=24)\n",
    "\n",
    "models= [knn, svm]\n",
    "\n",
    "for model in models:\n",
    "    model.fit(X_train, y_train)\n",
    "    y_pred= model.predict(X_test)\n",
    "    accuracy= accuracy_score(y_test, y_pred)\n",
    "    clf_report= classification_report(y_test, y_pred) \n",
    "    print(f\"The accuracy of model {type(model).__name__} is {accuracy:.2f}\")\n",
    "    print(clf_report)\n",
    "    print(\"\\n\")"
   ]
  },
  {
   "cell_type": "markdown",
   "metadata": {},
   "source": [
    "### Com base na accuracy, conseguimos delimitar que o modelo de Árvore de decisão foi o melhor, tendo em vista a sua accuracy de 1.00.\n",
    "\n",
    "### O que vem logo atrás com o segundo melhor desempenho é o de KNN, seguido por Random forest e SVM."
   ]
  },
  {
   "cell_type": "markdown",
   "metadata": {},
   "source": [
    "# Comparações feitas através da validação cruzada"
   ]
  },
  {
   "cell_type": "code",
   "execution_count": 13,
   "metadata": {},
   "outputs": [
    {
     "data": {
      "text/plain": [
       "array([1., 1., 1., 1., 1.])"
      ]
     },
     "execution_count": 13,
     "metadata": {},
     "output_type": "execute_result"
    }
   ],
   "source": [
    "from sklearn.model_selection import cross_val_score\n",
    "scores = cross_val_score(tree, X_train, y_train, cv=5)\n",
    "scores"
   ]
  },
  {
   "cell_type": "code",
   "execution_count": 15,
   "metadata": {},
   "outputs": [
    {
     "name": "stdout",
     "output_type": "stream",
     "text": [
      "1.00 accuracy with a standard deviation of 0.00\n"
     ]
    }
   ],
   "source": [
    "print(\"%0.2f accuracy with a standard deviation of %0.2f\" % (scores.mean(), scores.std()))"
   ]
  },
  {
   "cell_type": "code",
   "execution_count": 16,
   "metadata": {},
   "outputs": [
    {
     "data": {
      "text/plain": [
       "array([0.58666667, 0.57333333, 0.52      , 0.58666667, 0.55333333])"
      ]
     },
     "execution_count": 16,
     "metadata": {},
     "output_type": "execute_result"
    }
   ],
   "source": [
    "from sklearn.model_selection import cross_val_score\n",
    "scores2 = cross_val_score(forest, X_train, y_train, cv=5)\n",
    "scores2"
   ]
  },
  {
   "cell_type": "code",
   "execution_count": 17,
   "metadata": {},
   "outputs": [
    {
     "name": "stdout",
     "output_type": "stream",
     "text": [
      "0.56 accuracy with a standard deviation of 0.03\n"
     ]
    }
   ],
   "source": [
    "print(\"%0.2f accuracy with a standard deviation of %0.2f\" % (scores2.mean(), scores2.std()))"
   ]
  },
  {
   "cell_type": "code",
   "execution_count": 18,
   "metadata": {},
   "outputs": [
    {
     "data": {
      "text/plain": [
       "array([0.7       , 0.70666667, 0.71333333, 0.75333333, 0.67333333])"
      ]
     },
     "execution_count": 18,
     "metadata": {},
     "output_type": "execute_result"
    }
   ],
   "source": [
    "from sklearn.model_selection import cross_val_score\n",
    "scores3 = cross_val_score(knn, X_train, y_train, cv=5)\n",
    "scores3"
   ]
  },
  {
   "cell_type": "code",
   "execution_count": 19,
   "metadata": {},
   "outputs": [
    {
     "name": "stdout",
     "output_type": "stream",
     "text": [
      "0.71 accuracy with a standard deviation of 0.03\n"
     ]
    }
   ],
   "source": [
    "print(\"%0.2f accuracy with a standard deviation of %0.2f\" % (scores3.mean(), scores3.std()))"
   ]
  },
  {
   "cell_type": "code",
   "execution_count": 20,
   "metadata": {},
   "outputs": [
    {
     "data": {
      "text/plain": [
       "array([0.16      , 0.11333333, 0.2       , 0.15333333, 0.17333333])"
      ]
     },
     "execution_count": 20,
     "metadata": {},
     "output_type": "execute_result"
    }
   ],
   "source": [
    "from sklearn.model_selection import cross_val_score\n",
    "scores4 = cross_val_score(svm, X_train, y_train, cv=5)\n",
    "scores4"
   ]
  },
  {
   "cell_type": "code",
   "execution_count": 21,
   "metadata": {},
   "outputs": [
    {
     "name": "stdout",
     "output_type": "stream",
     "text": [
      "0.16 accuracy with a standard deviation of 0.03\n"
     ]
    }
   ],
   "source": [
    "print(\"%0.2f accuracy with a standard deviation of %0.2f\" % (scores4.mean(), scores4.std()))"
   ]
  }
 ],
 "metadata": {
  "kernelspec": {
   "display_name": "Python 3",
   "language": "python",
   "name": "python3"
  },
  "language_info": {
   "codemirror_mode": {
    "name": "ipython",
    "version": 3
   },
   "file_extension": ".py",
   "mimetype": "text/x-python",
   "name": "python",
   "nbconvert_exporter": "python",
   "pygments_lexer": "ipython3",
   "version": "3.8.3"
  }
 },
 "nbformat": 4,
 "nbformat_minor": 4
}
