{
 "cells": [
  {
   "cell_type": "markdown",
   "metadata": {},
   "source": [
    "Assim como no outro notebook, elaboramos este pensando na entrega do nosso 3° status.\n",
    "\n",
    "As informações contida nele, tem como finalidade estarem presente na nossa dashboard, para que sirva de valor para o nosso contratante na sua tomada de desição.\n",
    "\n",
    "Através do levantamento da agência nacional de podcast, conseguimos uma base nacional sobre o assunto, onde através dela tínhamos o intuito a geração de insights do nicho para os nossos clientes.\n",
    "\n",
    "Fizemos algumas analises simples de dados, onde o intuito era levar informações para quem estava visualizando.\n",
    "Também foi usado de tecnicas de machine learning como os modelos K-means, modelo hierárquico e um ainda não visto em sala que é o de DBSCAN"
   ]
  },
  {
   "cell_type": "markdown",
   "metadata": {},
   "source": [
    "## Imports iniciais e lendo a base de dados desejada"
   ]
  },
  {
   "cell_type": "code",
   "execution_count": 1,
   "metadata": {},
   "outputs": [],
   "source": [
    "import pandas as pd\n",
    "import numpy as np\n",
    "import seaborn as sns\n",
    "import matplotlib.pyplot\n",
    "from sklearn.preprocessing import StandardScaler\n",
    "from sklearn.model_selection import train_test_split\n",
    "\n",
    "#dataset = pd.read_excel('PodPesquisa-ouvintes-2019.xlsx')\n",
    "dataset = pd.read_excel('PodPesquisa-ouvintes-2019.xlsx', 'Respostas')"
   ]
  },
  {
   "cell_type": "markdown",
   "metadata": {},
   "source": [
    "## Visualizando informações importantes"
   ]
  },
  {
   "cell_type": "code",
   "execution_count": 2,
   "metadata": {},
   "outputs": [
    {
     "name": "stdout",
     "output_type": "stream",
     "text": [
      "<class 'pandas.core.frame.DataFrame'>\n",
      "RangeIndex: 16713 entries, 0 to 16712\n",
      "Columns: 140 entries, Resposta to 28. Você ouve a sessão de recados e leitura de emails / feedback de ouvintes?Ajustado\n",
      "dtypes: float64(3), int64(87), object(50)\n",
      "memory usage: 17.9+ MB\n"
     ]
    }
   ],
   "source": [
    "dataset.info()"
   ]
  },
  {
   "cell_type": "code",
   "execution_count": 3,
   "metadata": {},
   "outputs": [
    {
     "data": {
      "text/html": [
       "<div>\n",
       "<style scoped>\n",
       "    .dataframe tbody tr th:only-of-type {\n",
       "        vertical-align: middle;\n",
       "    }\n",
       "\n",
       "    .dataframe tbody tr th {\n",
       "        vertical-align: top;\n",
       "    }\n",
       "\n",
       "    .dataframe thead th {\n",
       "        text-align: right;\n",
       "    }\n",
       "</style>\n",
       "<table border=\"1\" class=\"dataframe\">\n",
       "  <thead>\n",
       "    <tr style=\"text-align: right;\">\n",
       "      <th></th>\n",
       "      <th>Resposta</th>\n",
       "      <th>1. Qual a sua idade ?</th>\n",
       "      <th>2. Qual é o seu estado civil ?</th>\n",
       "      <th>3. Qual o seu nível de escolaridade?</th>\n",
       "      <th>4. Qual é seu gênero?</th>\n",
       "      <th>5. Qual sua raça / cor?</th>\n",
       "      <th>6. Qual sua orientação sexual</th>\n",
       "      <th>7. Qual é sua localidade atual ?</th>\n",
       "      <th>8. Em que Estado do Brasil você mora?</th>\n",
       "      <th>9. Em que país você vive?</th>\n",
       "      <th>...</th>\n",
       "      <th>25 - Comportamento Redes Sociais - 04 Procuro interagir com eles mas nunca fui notado</th>\n",
       "      <th>26. Propaganda Ajustada</th>\n",
       "      <th>27 - Ocasiões que ouve - 01 Quando estou navegando na internet</th>\n",
       "      <th>27 - Ocasiões que ouve - 02 Quando estou me locomovendo</th>\n",
       "      <th>27 - Ocasiões que ouve - 03 Quando estou trabalhando/estudando/lendo</th>\n",
       "      <th>27 - Ocasiões que ouve - 04 Durante a prática de atividades físicas</th>\n",
       "      <th>27 - Ocasiões que ouve - 05 Durante a realização de tarefas domésticas</th>\n",
       "      <th>27 - Ocasiões que ouve - 06 Antes de dormir</th>\n",
       "      <th>27 - Ocasiões que ouve - 07 Não divido com outras atividades</th>\n",
       "      <th>28. Você ouve a sessão de recados e leitura de emails / feedback de ouvintes?Ajustado</th>\n",
       "    </tr>\n",
       "  </thead>\n",
       "  <tbody>\n",
       "    <tr>\n",
       "      <th>0</th>\n",
       "      <td>A00001</td>\n",
       "      <td>35.0</td>\n",
       "      <td>NaN</td>\n",
       "      <td>Superior completo</td>\n",
       "      <td>Masculino Cis</td>\n",
       "      <td>Branco</td>\n",
       "      <td>Heterossexual</td>\n",
       "      <td>Curitiba</td>\n",
       "      <td>Paraná (PR)</td>\n",
       "      <td>Brasil</td>\n",
       "      <td>...</td>\n",
       "      <td>0</td>\n",
       "      <td>3 - O anúncio é do próprio podcast (loja própr...</td>\n",
       "      <td>1</td>\n",
       "      <td>1</td>\n",
       "      <td>1</td>\n",
       "      <td>1</td>\n",
       "      <td>1</td>\n",
       "      <td>1</td>\n",
       "      <td>0</td>\n",
       "      <td>1 - Sim, Sempre</td>\n",
       "    </tr>\n",
       "    <tr>\n",
       "      <th>1</th>\n",
       "      <td>A00002</td>\n",
       "      <td>30.0</td>\n",
       "      <td>Solteiro</td>\n",
       "      <td>Superior incompleto</td>\n",
       "      <td>Masculino Cis</td>\n",
       "      <td>Preto</td>\n",
       "      <td>Heterossexual</td>\n",
       "      <td>Palhoça,SC,Brasil</td>\n",
       "      <td>Santa Catarina (SC)</td>\n",
       "      <td>Brasil</td>\n",
       "      <td>...</td>\n",
       "      <td>0</td>\n",
       "      <td>1 - Tem a ver com o tema do episódio</td>\n",
       "      <td>0</td>\n",
       "      <td>1</td>\n",
       "      <td>1</td>\n",
       "      <td>0</td>\n",
       "      <td>1</td>\n",
       "      <td>1</td>\n",
       "      <td>0</td>\n",
       "      <td>3 - Às vezes, depende da posição no episódio</td>\n",
       "    </tr>\n",
       "    <tr>\n",
       "      <th>2</th>\n",
       "      <td>A00003</td>\n",
       "      <td>34.0</td>\n",
       "      <td>Casado / Amasiado</td>\n",
       "      <td>Nivel Médio</td>\n",
       "      <td>Masculino Cis</td>\n",
       "      <td>Pardo</td>\n",
       "      <td>Heterossexual</td>\n",
       "      <td>Porto Alegre Brasil</td>\n",
       "      <td>Rio Grande do Sul (RS)</td>\n",
       "      <td>Brasil</td>\n",
       "      <td>...</td>\n",
       "      <td>0</td>\n",
       "      <td>5 - Não presto atenção aos anúncios e propagandas</td>\n",
       "      <td>0</td>\n",
       "      <td>0</td>\n",
       "      <td>0</td>\n",
       "      <td>0</td>\n",
       "      <td>0</td>\n",
       "      <td>1</td>\n",
       "      <td>0</td>\n",
       "      <td>1 - Sim, Sempre</td>\n",
       "    </tr>\n",
       "    <tr>\n",
       "      <th>3</th>\n",
       "      <td>A00004</td>\n",
       "      <td>25.0</td>\n",
       "      <td>Solteiro</td>\n",
       "      <td>Superior completo</td>\n",
       "      <td>Feminino Cis</td>\n",
       "      <td>Branco</td>\n",
       "      <td>Heterossexual</td>\n",
       "      <td>Rio de Janeiro</td>\n",
       "      <td>Rio de Janeiro (RJ)</td>\n",
       "      <td>Brasil</td>\n",
       "      <td>...</td>\n",
       "      <td>0</td>\n",
       "      <td>2 - Anuncia um produto ou serviço muito bom</td>\n",
       "      <td>1</td>\n",
       "      <td>1</td>\n",
       "      <td>1</td>\n",
       "      <td>1</td>\n",
       "      <td>1</td>\n",
       "      <td>1</td>\n",
       "      <td>0</td>\n",
       "      <td>3 - Às vezes, depende da posição no episódio</td>\n",
       "    </tr>\n",
       "    <tr>\n",
       "      <th>4</th>\n",
       "      <td>A00005</td>\n",
       "      <td>30.0</td>\n",
       "      <td>Solteiro</td>\n",
       "      <td>Superior completo</td>\n",
       "      <td>Masculino Cis</td>\n",
       "      <td>Branco</td>\n",
       "      <td>Heterossexual</td>\n",
       "      <td>Vespasiano MG</td>\n",
       "      <td>Minas Gerais (MG)</td>\n",
       "      <td>Brasil</td>\n",
       "      <td>...</td>\n",
       "      <td>0</td>\n",
       "      <td>2 - Anuncia um produto ou serviço muito bom</td>\n",
       "      <td>1</td>\n",
       "      <td>1</td>\n",
       "      <td>0</td>\n",
       "      <td>1</td>\n",
       "      <td>1</td>\n",
       "      <td>1</td>\n",
       "      <td>0</td>\n",
       "      <td>3 - Às vezes, depende da posição no episódio</td>\n",
       "    </tr>\n",
       "  </tbody>\n",
       "</table>\n",
       "<p>5 rows × 140 columns</p>\n",
       "</div>"
      ],
      "text/plain": [
       "  Resposta  1. Qual a sua idade ? 2. Qual é o seu estado civil ?  \\\n",
       "0   A00001                   35.0                            NaN   \n",
       "1   A00002                   30.0                       Solteiro   \n",
       "2   A00003                   34.0              Casado / Amasiado   \n",
       "3   A00004                   25.0                       Solteiro   \n",
       "4   A00005                   30.0                       Solteiro   \n",
       "\n",
       "  3. Qual o seu nível de escolaridade? 4. Qual é seu gênero?  \\\n",
       "0                    Superior completo         Masculino Cis   \n",
       "1                  Superior incompleto         Masculino Cis   \n",
       "2                          Nivel Médio         Masculino Cis   \n",
       "3                    Superior completo          Feminino Cis   \n",
       "4                    Superior completo         Masculino Cis   \n",
       "\n",
       "  5. Qual sua raça / cor?  6. Qual sua orientação sexual  \\\n",
       "0                   Branco                 Heterossexual   \n",
       "1                    Preto                 Heterossexual   \n",
       "2                    Pardo                 Heterossexual   \n",
       "3                   Branco                 Heterossexual   \n",
       "4                   Branco                 Heterossexual   \n",
       "\n",
       "  7. Qual é sua localidade atual ? 8. Em que Estado do Brasil você mora?  \\\n",
       "0                         Curitiba                           Paraná (PR)   \n",
       "1                Palhoça,SC,Brasil                   Santa Catarina (SC)   \n",
       "2              Porto Alegre Brasil                Rio Grande do Sul (RS)   \n",
       "3                   Rio de Janeiro                   Rio de Janeiro (RJ)   \n",
       "4                    Vespasiano MG                     Minas Gerais (MG)   \n",
       "\n",
       "  9. Em que país você vive?  ...  \\\n",
       "0                    Brasil  ...   \n",
       "1                    Brasil  ...   \n",
       "2                    Brasil  ...   \n",
       "3                    Brasil  ...   \n",
       "4                    Brasil  ...   \n",
       "\n",
       "  25 - Comportamento Redes Sociais - 04 Procuro interagir com eles mas nunca fui notado  \\\n",
       "0                                                  0                                      \n",
       "1                                                  0                                      \n",
       "2                                                  0                                      \n",
       "3                                                  0                                      \n",
       "4                                                  0                                      \n",
       "\n",
       "                             26. Propaganda Ajustada  \\\n",
       "0  3 - O anúncio é do próprio podcast (loja própr...   \n",
       "1               1 - Tem a ver com o tema do episódio   \n",
       "2  5 - Não presto atenção aos anúncios e propagandas   \n",
       "3        2 - Anuncia um produto ou serviço muito bom   \n",
       "4        2 - Anuncia um produto ou serviço muito bom   \n",
       "\n",
       "  27 - Ocasiões que ouve - 01 Quando estou navegando na internet  \\\n",
       "0                                                  1               \n",
       "1                                                  0               \n",
       "2                                                  0               \n",
       "3                                                  1               \n",
       "4                                                  1               \n",
       "\n",
       "   27 - Ocasiões que ouve - 02 Quando estou me locomovendo  \\\n",
       "0                                                  1         \n",
       "1                                                  1         \n",
       "2                                                  0         \n",
       "3                                                  1         \n",
       "4                                                  1         \n",
       "\n",
       "  27 - Ocasiões que ouve - 03 Quando estou trabalhando/estudando/lendo  \\\n",
       "0                                                  1                     \n",
       "1                                                  1                     \n",
       "2                                                  0                     \n",
       "3                                                  1                     \n",
       "4                                                  0                     \n",
       "\n",
       "  27 - Ocasiões que ouve - 04 Durante a prática de atividades físicas  \\\n",
       "0                                                  1                    \n",
       "1                                                  0                    \n",
       "2                                                  0                    \n",
       "3                                                  1                    \n",
       "4                                                  1                    \n",
       "\n",
       "  27 - Ocasiões que ouve - 05 Durante a realização de tarefas domésticas  \\\n",
       "0                                                  1                       \n",
       "1                                                  1                       \n",
       "2                                                  0                       \n",
       "3                                                  1                       \n",
       "4                                                  1                       \n",
       "\n",
       "  27 - Ocasiões que ouve - 06 Antes de dormir  \\\n",
       "0                                           1   \n",
       "1                                           1   \n",
       "2                                           1   \n",
       "3                                           1   \n",
       "4                                           1   \n",
       "\n",
       "  27 - Ocasiões que ouve - 07 Não divido com outras atividades  \\\n",
       "0                                                  0             \n",
       "1                                                  0             \n",
       "2                                                  0             \n",
       "3                                                  0             \n",
       "4                                                  0             \n",
       "\n",
       "  28. Você ouve a sessão de recados e leitura de emails / feedback de ouvintes?Ajustado  \n",
       "0                                    1 - Sim, Sempre                                     \n",
       "1       3 - Às vezes, depende da posição no episódio                                     \n",
       "2                                    1 - Sim, Sempre                                     \n",
       "3       3 - Às vezes, depende da posição no episódio                                     \n",
       "4       3 - Às vezes, depende da posição no episódio                                     \n",
       "\n",
       "[5 rows x 140 columns]"
      ]
     },
     "execution_count": 3,
     "metadata": {},
     "output_type": "execute_result"
    }
   ],
   "source": [
    "dataset.head()"
   ]
  },
  {
   "cell_type": "code",
   "execution_count": 4,
   "metadata": {},
   "outputs": [
    {
     "data": {
      "text/html": [
       "<div>\n",
       "<style scoped>\n",
       "    .dataframe tbody tr th:only-of-type {\n",
       "        vertical-align: middle;\n",
       "    }\n",
       "\n",
       "    .dataframe tbody tr th {\n",
       "        vertical-align: top;\n",
       "    }\n",
       "\n",
       "    .dataframe thead th {\n",
       "        text-align: right;\n",
       "    }\n",
       "</style>\n",
       "<table border=\"1\" class=\"dataframe\">\n",
       "  <thead>\n",
       "    <tr style=\"text-align: right;\">\n",
       "      <th></th>\n",
       "      <th>1. Qual a sua idade ?</th>\n",
       "      <th>13. Aproximadamente quantos podcasts você ouve ?</th>\n",
       "      <th>23. Até quanto você pagaria (mensalmente em R$) para consumir conteúdos exclusivos do seu podcast favorito?</th>\n",
       "      <th>16 - Aspectos Importantes - 01 Entretenimento</th>\n",
       "      <th>16 - Aspectos Importantes - 02 Qualidade do áudio</th>\n",
       "      <th>16 - Aspectos Importantes - 03 Conteúdo</th>\n",
       "      <th>16 - Aspectos Importantes - 04 Frequência de publicação</th>\n",
       "      <th>16 - Aspectos Importantes - 05 Facilidade de acesso</th>\n",
       "      <th>16 - Aspectos Importantes - 06 Locução</th>\n",
       "      <th>16 - Aspectos Importantes - 07 Músicas</th>\n",
       "      <th>...</th>\n",
       "      <th>25 - Comportamento Redes Sociais - 02 Posso deixar de seguir ou deixar de ouvir podcasts dependendo das suas opiniões ou orientação política</th>\n",
       "      <th>25 - Comportamento Redes Sociais - 03 Procuro interagir e eles reagem ou me seguem também</th>\n",
       "      <th>25 - Comportamento Redes Sociais - 04 Procuro interagir com eles mas nunca fui notado</th>\n",
       "      <th>27 - Ocasiões que ouve - 01 Quando estou navegando na internet</th>\n",
       "      <th>27 - Ocasiões que ouve - 02 Quando estou me locomovendo</th>\n",
       "      <th>27 - Ocasiões que ouve - 03 Quando estou trabalhando/estudando/lendo</th>\n",
       "      <th>27 - Ocasiões que ouve - 04 Durante a prática de atividades físicas</th>\n",
       "      <th>27 - Ocasiões que ouve - 05 Durante a realização de tarefas domésticas</th>\n",
       "      <th>27 - Ocasiões que ouve - 06 Antes de dormir</th>\n",
       "      <th>27 - Ocasiões que ouve - 07 Não divido com outras atividades</th>\n",
       "    </tr>\n",
       "  </thead>\n",
       "  <tbody>\n",
       "    <tr>\n",
       "      <th>count</th>\n",
       "      <td>16709.000000</td>\n",
       "      <td>16593.000000</td>\n",
       "      <td>15250.000000</td>\n",
       "      <td>16713.000000</td>\n",
       "      <td>16713.000000</td>\n",
       "      <td>16713.000000</td>\n",
       "      <td>16713.000000</td>\n",
       "      <td>16713.000000</td>\n",
       "      <td>16713.000000</td>\n",
       "      <td>16713.000000</td>\n",
       "      <td>...</td>\n",
       "      <td>16713.000000</td>\n",
       "      <td>16713.000000</td>\n",
       "      <td>16713.000000</td>\n",
       "      <td>16713.000000</td>\n",
       "      <td>16713.000000</td>\n",
       "      <td>16713.000000</td>\n",
       "      <td>16713.000000</td>\n",
       "      <td>16713.000000</td>\n",
       "      <td>16713.000000</td>\n",
       "      <td>16713.000000</td>\n",
       "    </tr>\n",
       "    <tr>\n",
       "      <th>mean</th>\n",
       "      <td>28.517924</td>\n",
       "      <td>16.496776</td>\n",
       "      <td>16.823340</td>\n",
       "      <td>0.749058</td>\n",
       "      <td>0.710644</td>\n",
       "      <td>0.917848</td>\n",
       "      <td>0.387064</td>\n",
       "      <td>0.334889</td>\n",
       "      <td>0.165081</td>\n",
       "      <td>0.058816</td>\n",
       "      <td>...</td>\n",
       "      <td>0.358763</td>\n",
       "      <td>0.266499</td>\n",
       "      <td>0.143421</td>\n",
       "      <td>0.351583</td>\n",
       "      <td>0.786753</td>\n",
       "      <td>0.437982</td>\n",
       "      <td>0.445641</td>\n",
       "      <td>0.724885</td>\n",
       "      <td>0.283612</td>\n",
       "      <td>0.020583</td>\n",
       "    </tr>\n",
       "    <tr>\n",
       "      <th>std</th>\n",
       "      <td>8.154665</td>\n",
       "      <td>776.356735</td>\n",
       "      <td>131.222926</td>\n",
       "      <td>0.433568</td>\n",
       "      <td>0.453477</td>\n",
       "      <td>0.274604</td>\n",
       "      <td>0.487093</td>\n",
       "      <td>0.471966</td>\n",
       "      <td>0.371265</td>\n",
       "      <td>0.235288</td>\n",
       "      <td>...</td>\n",
       "      <td>0.479652</td>\n",
       "      <td>0.442141</td>\n",
       "      <td>0.350512</td>\n",
       "      <td>0.477479</td>\n",
       "      <td>0.409613</td>\n",
       "      <td>0.496154</td>\n",
       "      <td>0.497051</td>\n",
       "      <td>0.446586</td>\n",
       "      <td>0.450764</td>\n",
       "      <td>0.141987</td>\n",
       "    </tr>\n",
       "    <tr>\n",
       "      <th>min</th>\n",
       "      <td>10.000000</td>\n",
       "      <td>0.000000</td>\n",
       "      <td>-1000.000000</td>\n",
       "      <td>0.000000</td>\n",
       "      <td>0.000000</td>\n",
       "      <td>0.000000</td>\n",
       "      <td>0.000000</td>\n",
       "      <td>0.000000</td>\n",
       "      <td>0.000000</td>\n",
       "      <td>0.000000</td>\n",
       "      <td>...</td>\n",
       "      <td>0.000000</td>\n",
       "      <td>0.000000</td>\n",
       "      <td>0.000000</td>\n",
       "      <td>0.000000</td>\n",
       "      <td>0.000000</td>\n",
       "      <td>0.000000</td>\n",
       "      <td>0.000000</td>\n",
       "      <td>0.000000</td>\n",
       "      <td>0.000000</td>\n",
       "      <td>0.000000</td>\n",
       "    </tr>\n",
       "    <tr>\n",
       "      <th>25%</th>\n",
       "      <td>23.000000</td>\n",
       "      <td>4.000000</td>\n",
       "      <td>5.000000</td>\n",
       "      <td>0.000000</td>\n",
       "      <td>0.000000</td>\n",
       "      <td>1.000000</td>\n",
       "      <td>0.000000</td>\n",
       "      <td>0.000000</td>\n",
       "      <td>0.000000</td>\n",
       "      <td>0.000000</td>\n",
       "      <td>...</td>\n",
       "      <td>0.000000</td>\n",
       "      <td>0.000000</td>\n",
       "      <td>0.000000</td>\n",
       "      <td>0.000000</td>\n",
       "      <td>1.000000</td>\n",
       "      <td>0.000000</td>\n",
       "      <td>0.000000</td>\n",
       "      <td>0.000000</td>\n",
       "      <td>0.000000</td>\n",
       "      <td>0.000000</td>\n",
       "    </tr>\n",
       "    <tr>\n",
       "      <th>50%</th>\n",
       "      <td>27.000000</td>\n",
       "      <td>7.000000</td>\n",
       "      <td>10.000000</td>\n",
       "      <td>1.000000</td>\n",
       "      <td>1.000000</td>\n",
       "      <td>1.000000</td>\n",
       "      <td>0.000000</td>\n",
       "      <td>0.000000</td>\n",
       "      <td>0.000000</td>\n",
       "      <td>0.000000</td>\n",
       "      <td>...</td>\n",
       "      <td>0.000000</td>\n",
       "      <td>0.000000</td>\n",
       "      <td>0.000000</td>\n",
       "      <td>0.000000</td>\n",
       "      <td>1.000000</td>\n",
       "      <td>0.000000</td>\n",
       "      <td>0.000000</td>\n",
       "      <td>1.000000</td>\n",
       "      <td>0.000000</td>\n",
       "      <td>0.000000</td>\n",
       "    </tr>\n",
       "    <tr>\n",
       "      <th>75%</th>\n",
       "      <td>33.000000</td>\n",
       "      <td>12.000000</td>\n",
       "      <td>20.000000</td>\n",
       "      <td>1.000000</td>\n",
       "      <td>1.000000</td>\n",
       "      <td>1.000000</td>\n",
       "      <td>1.000000</td>\n",
       "      <td>1.000000</td>\n",
       "      <td>0.000000</td>\n",
       "      <td>0.000000</td>\n",
       "      <td>...</td>\n",
       "      <td>1.000000</td>\n",
       "      <td>1.000000</td>\n",
       "      <td>0.000000</td>\n",
       "      <td>1.000000</td>\n",
       "      <td>1.000000</td>\n",
       "      <td>1.000000</td>\n",
       "      <td>1.000000</td>\n",
       "      <td>1.000000</td>\n",
       "      <td>1.000000</td>\n",
       "      <td>0.000000</td>\n",
       "    </tr>\n",
       "    <tr>\n",
       "      <th>max</th>\n",
       "      <td>222.000000</td>\n",
       "      <td>100000.000000</td>\n",
       "      <td>10000.000000</td>\n",
       "      <td>1.000000</td>\n",
       "      <td>1.000000</td>\n",
       "      <td>1.000000</td>\n",
       "      <td>1.000000</td>\n",
       "      <td>1.000000</td>\n",
       "      <td>1.000000</td>\n",
       "      <td>1.000000</td>\n",
       "      <td>...</td>\n",
       "      <td>1.000000</td>\n",
       "      <td>1.000000</td>\n",
       "      <td>1.000000</td>\n",
       "      <td>1.000000</td>\n",
       "      <td>1.000000</td>\n",
       "      <td>1.000000</td>\n",
       "      <td>1.000000</td>\n",
       "      <td>1.000000</td>\n",
       "      <td>1.000000</td>\n",
       "      <td>1.000000</td>\n",
       "    </tr>\n",
       "  </tbody>\n",
       "</table>\n",
       "<p>8 rows × 90 columns</p>\n",
       "</div>"
      ],
      "text/plain": [
       "       1. Qual a sua idade ?  \\\n",
       "count           16709.000000   \n",
       "mean               28.517924   \n",
       "std                 8.154665   \n",
       "min                10.000000   \n",
       "25%                23.000000   \n",
       "50%                27.000000   \n",
       "75%                33.000000   \n",
       "max               222.000000   \n",
       "\n",
       "       13. Aproximadamente quantos podcasts você ouve ?  \\\n",
       "count                                      16593.000000   \n",
       "mean                                          16.496776   \n",
       "std                                          776.356735   \n",
       "min                                            0.000000   \n",
       "25%                                            4.000000   \n",
       "50%                                            7.000000   \n",
       "75%                                           12.000000   \n",
       "max                                       100000.000000   \n",
       "\n",
       "       23. Até quanto você pagaria (mensalmente em R$) para consumir conteúdos exclusivos do seu podcast favorito?  \\\n",
       "count                                       15250.000000                                                             \n",
       "mean                                           16.823340                                                             \n",
       "std                                           131.222926                                                             \n",
       "min                                         -1000.000000                                                             \n",
       "25%                                             5.000000                                                             \n",
       "50%                                            10.000000                                                             \n",
       "75%                                            20.000000                                                             \n",
       "max                                         10000.000000                                                             \n",
       "\n",
       "       16 - Aspectos Importantes - 01 Entretenimento  \\\n",
       "count                                   16713.000000   \n",
       "mean                                        0.749058   \n",
       "std                                         0.433568   \n",
       "min                                         0.000000   \n",
       "25%                                         0.000000   \n",
       "50%                                         1.000000   \n",
       "75%                                         1.000000   \n",
       "max                                         1.000000   \n",
       "\n",
       "       16 - Aspectos Importantes - 02 Qualidade do áudio  \\\n",
       "count                                       16713.000000   \n",
       "mean                                            0.710644   \n",
       "std                                             0.453477   \n",
       "min                                             0.000000   \n",
       "25%                                             0.000000   \n",
       "50%                                             1.000000   \n",
       "75%                                             1.000000   \n",
       "max                                             1.000000   \n",
       "\n",
       "       16 - Aspectos Importantes - 03 Conteúdo  \\\n",
       "count                             16713.000000   \n",
       "mean                                  0.917848   \n",
       "std                                   0.274604   \n",
       "min                                   0.000000   \n",
       "25%                                   1.000000   \n",
       "50%                                   1.000000   \n",
       "75%                                   1.000000   \n",
       "max                                   1.000000   \n",
       "\n",
       "       16 - Aspectos Importantes - 04 Frequência de publicação  \\\n",
       "count                                       16713.000000         \n",
       "mean                                            0.387064         \n",
       "std                                             0.487093         \n",
       "min                                             0.000000         \n",
       "25%                                             0.000000         \n",
       "50%                                             0.000000         \n",
       "75%                                             1.000000         \n",
       "max                                             1.000000         \n",
       "\n",
       "       16 - Aspectos Importantes - 05 Facilidade de acesso  \\\n",
       "count                                       16713.000000     \n",
       "mean                                            0.334889     \n",
       "std                                             0.471966     \n",
       "min                                             0.000000     \n",
       "25%                                             0.000000     \n",
       "50%                                             0.000000     \n",
       "75%                                             1.000000     \n",
       "max                                             1.000000     \n",
       "\n",
       "       16 - Aspectos Importantes - 06 Locução  \\\n",
       "count                            16713.000000   \n",
       "mean                                 0.165081   \n",
       "std                                  0.371265   \n",
       "min                                  0.000000   \n",
       "25%                                  0.000000   \n",
       "50%                                  0.000000   \n",
       "75%                                  0.000000   \n",
       "max                                  1.000000   \n",
       "\n",
       "       16 - Aspectos Importantes - 07 Músicas  ...  \\\n",
       "count                            16713.000000  ...   \n",
       "mean                                 0.058816  ...   \n",
       "std                                  0.235288  ...   \n",
       "min                                  0.000000  ...   \n",
       "25%                                  0.000000  ...   \n",
       "50%                                  0.000000  ...   \n",
       "75%                                  0.000000  ...   \n",
       "max                                  1.000000  ...   \n",
       "\n",
       "       25 - Comportamento Redes Sociais - 02 Posso deixar de seguir ou deixar de ouvir podcasts dependendo das suas opiniões ou orientação política  \\\n",
       "count                                       16713.000000                                                                                              \n",
       "mean                                            0.358763                                                                                              \n",
       "std                                             0.479652                                                                                              \n",
       "min                                             0.000000                                                                                              \n",
       "25%                                             0.000000                                                                                              \n",
       "50%                                             0.000000                                                                                              \n",
       "75%                                             1.000000                                                                                              \n",
       "max                                             1.000000                                                                                              \n",
       "\n",
       "       25 - Comportamento Redes Sociais - 03 Procuro interagir e eles reagem ou me seguem também  \\\n",
       "count                                       16713.000000                                           \n",
       "mean                                            0.266499                                           \n",
       "std                                             0.442141                                           \n",
       "min                                             0.000000                                           \n",
       "25%                                             0.000000                                           \n",
       "50%                                             0.000000                                           \n",
       "75%                                             1.000000                                           \n",
       "max                                             1.000000                                           \n",
       "\n",
       "       25 - Comportamento Redes Sociais - 04 Procuro interagir com eles mas nunca fui notado  \\\n",
       "count                                       16713.000000                                       \n",
       "mean                                            0.143421                                       \n",
       "std                                             0.350512                                       \n",
       "min                                             0.000000                                       \n",
       "25%                                             0.000000                                       \n",
       "50%                                             0.000000                                       \n",
       "75%                                             0.000000                                       \n",
       "max                                             1.000000                                       \n",
       "\n",
       "       27 - Ocasiões que ouve - 01 Quando estou navegando na internet  \\\n",
       "count                                       16713.000000                \n",
       "mean                                            0.351583                \n",
       "std                                             0.477479                \n",
       "min                                             0.000000                \n",
       "25%                                             0.000000                \n",
       "50%                                             0.000000                \n",
       "75%                                             1.000000                \n",
       "max                                             1.000000                \n",
       "\n",
       "       27 - Ocasiões que ouve - 02 Quando estou me locomovendo  \\\n",
       "count                                       16713.000000         \n",
       "mean                                            0.786753         \n",
       "std                                             0.409613         \n",
       "min                                             0.000000         \n",
       "25%                                             1.000000         \n",
       "50%                                             1.000000         \n",
       "75%                                             1.000000         \n",
       "max                                             1.000000         \n",
       "\n",
       "       27 - Ocasiões que ouve - 03 Quando estou trabalhando/estudando/lendo  \\\n",
       "count                                       16713.000000                      \n",
       "mean                                            0.437982                      \n",
       "std                                             0.496154                      \n",
       "min                                             0.000000                      \n",
       "25%                                             0.000000                      \n",
       "50%                                             0.000000                      \n",
       "75%                                             1.000000                      \n",
       "max                                             1.000000                      \n",
       "\n",
       "       27 - Ocasiões que ouve - 04 Durante a prática de atividades físicas  \\\n",
       "count                                       16713.000000                     \n",
       "mean                                            0.445641                     \n",
       "std                                             0.497051                     \n",
       "min                                             0.000000                     \n",
       "25%                                             0.000000                     \n",
       "50%                                             0.000000                     \n",
       "75%                                             1.000000                     \n",
       "max                                             1.000000                     \n",
       "\n",
       "       27 - Ocasiões que ouve - 05 Durante a realização de tarefas domésticas  \\\n",
       "count                                       16713.000000                        \n",
       "mean                                            0.724885                        \n",
       "std                                             0.446586                        \n",
       "min                                             0.000000                        \n",
       "25%                                             0.000000                        \n",
       "50%                                             1.000000                        \n",
       "75%                                             1.000000                        \n",
       "max                                             1.000000                        \n",
       "\n",
       "       27 - Ocasiões que ouve - 06 Antes de dormir  \\\n",
       "count                                 16713.000000   \n",
       "mean                                      0.283612   \n",
       "std                                       0.450764   \n",
       "min                                       0.000000   \n",
       "25%                                       0.000000   \n",
       "50%                                       0.000000   \n",
       "75%                                       1.000000   \n",
       "max                                       1.000000   \n",
       "\n",
       "       27 - Ocasiões que ouve - 07 Não divido com outras atividades  \n",
       "count                                       16713.000000             \n",
       "mean                                            0.020583             \n",
       "std                                             0.141987             \n",
       "min                                             0.000000             \n",
       "25%                                             0.000000             \n",
       "50%                                             0.000000             \n",
       "75%                                             0.000000             \n",
       "max                                             1.000000             \n",
       "\n",
       "[8 rows x 90 columns]"
      ]
     },
     "execution_count": 4,
     "metadata": {},
     "output_type": "execute_result"
    }
   ],
   "source": [
    "dataset.describe()"
   ]
  },
  {
   "cell_type": "markdown",
   "metadata": {},
   "source": [
    "## Excluindo algumas colunas que acho que não vão ser utilizadas"
   ]
  },
  {
   "cell_type": "code",
   "execution_count": 5,
   "metadata": {},
   "outputs": [
    {
     "data": {
      "text/html": [
       "<div>\n",
       "<style scoped>\n",
       "    .dataframe tbody tr th:only-of-type {\n",
       "        vertical-align: middle;\n",
       "    }\n",
       "\n",
       "    .dataframe tbody tr th {\n",
       "        vertical-align: top;\n",
       "    }\n",
       "\n",
       "    .dataframe thead th {\n",
       "        text-align: right;\n",
       "    }\n",
       "</style>\n",
       "<table border=\"1\" class=\"dataframe\">\n",
       "  <thead>\n",
       "    <tr style=\"text-align: right;\">\n",
       "      <th></th>\n",
       "      <th>1. Qual a sua idade ?</th>\n",
       "      <th>4. Qual é seu gênero?</th>\n",
       "      <th>5. Qual sua raça / cor?</th>\n",
       "      <th>6. Qual sua orientação sexual</th>\n",
       "      <th>8. Em que Estado do Brasil você mora?</th>\n",
       "      <th>9. Em que país você vive?</th>\n",
       "      <th>10. Qual das opções abaixo melhor descreve a sua situação empregatícia?</th>\n",
       "      <th>12. Há quantos anos você ouve podcast?</th>\n",
       "      <th>13. Aproximadamente quantos podcasts você ouve ?</th>\n",
       "      <th>14. O que levou você a ouvir podcast?</th>\n",
       "      <th>...</th>\n",
       "      <th>25 - Comportamento Redes Sociais - 04 Procuro interagir com eles mas nunca fui notado</th>\n",
       "      <th>26. Propaganda Ajustada</th>\n",
       "      <th>27 - Ocasiões que ouve - 01 Quando estou navegando na internet</th>\n",
       "      <th>27 - Ocasiões que ouve - 02 Quando estou me locomovendo</th>\n",
       "      <th>27 - Ocasiões que ouve - 03 Quando estou trabalhando/estudando/lendo</th>\n",
       "      <th>27 - Ocasiões que ouve - 04 Durante a prática de atividades físicas</th>\n",
       "      <th>27 - Ocasiões que ouve - 05 Durante a realização de tarefas domésticas</th>\n",
       "      <th>27 - Ocasiões que ouve - 06 Antes de dormir</th>\n",
       "      <th>27 - Ocasiões que ouve - 07 Não divido com outras atividades</th>\n",
       "      <th>28. Você ouve a sessão de recados e leitura de emails / feedback de ouvintes?Ajustado</th>\n",
       "    </tr>\n",
       "  </thead>\n",
       "  <tbody>\n",
       "    <tr>\n",
       "      <th>0</th>\n",
       "      <td>35.0</td>\n",
       "      <td>Masculino Cis</td>\n",
       "      <td>Branco</td>\n",
       "      <td>Heterossexual</td>\n",
       "      <td>Paraná (PR)</td>\n",
       "      <td>Brasil</td>\n",
       "      <td>Autônomo / Profissional liberal</td>\n",
       "      <td>6</td>\n",
       "      <td>12.0</td>\n",
       "      <td>Qualidade e diversidade do conteúdo</td>\n",
       "      <td>...</td>\n",
       "      <td>0</td>\n",
       "      <td>3 - O anúncio é do próprio podcast (loja própr...</td>\n",
       "      <td>1</td>\n",
       "      <td>1</td>\n",
       "      <td>1</td>\n",
       "      <td>1</td>\n",
       "      <td>1</td>\n",
       "      <td>1</td>\n",
       "      <td>0</td>\n",
       "      <td>1 - Sim, Sempre</td>\n",
       "    </tr>\n",
       "    <tr>\n",
       "      <th>1</th>\n",
       "      <td>30.0</td>\n",
       "      <td>Masculino Cis</td>\n",
       "      <td>Preto</td>\n",
       "      <td>Heterossexual</td>\n",
       "      <td>Santa Catarina (SC)</td>\n",
       "      <td>Brasil</td>\n",
       "      <td>Não empregado</td>\n",
       "      <td>4</td>\n",
       "      <td>10.0</td>\n",
       "      <td>Liberdade para ouvir quando, como e onde eu qu...</td>\n",
       "      <td>...</td>\n",
       "      <td>0</td>\n",
       "      <td>1 - Tem a ver com o tema do episódio</td>\n",
       "      <td>0</td>\n",
       "      <td>1</td>\n",
       "      <td>1</td>\n",
       "      <td>0</td>\n",
       "      <td>1</td>\n",
       "      <td>1</td>\n",
       "      <td>0</td>\n",
       "      <td>3 - Às vezes, depende da posição no episódio</td>\n",
       "    </tr>\n",
       "    <tr>\n",
       "      <th>2</th>\n",
       "      <td>34.0</td>\n",
       "      <td>Masculino Cis</td>\n",
       "      <td>Pardo</td>\n",
       "      <td>Heterossexual</td>\n",
       "      <td>Rio Grande do Sul (RS)</td>\n",
       "      <td>Brasil</td>\n",
       "      <td>Empregador / Empresário</td>\n",
       "      <td>3</td>\n",
       "      <td>10.0</td>\n",
       "      <td>Liberdade para ouvir quando, como e onde eu qu...</td>\n",
       "      <td>...</td>\n",
       "      <td>0</td>\n",
       "      <td>5 - Não presto atenção aos anúncios e propagandas</td>\n",
       "      <td>0</td>\n",
       "      <td>0</td>\n",
       "      <td>0</td>\n",
       "      <td>0</td>\n",
       "      <td>0</td>\n",
       "      <td>1</td>\n",
       "      <td>0</td>\n",
       "      <td>1 - Sim, Sempre</td>\n",
       "    </tr>\n",
       "    <tr>\n",
       "      <th>3</th>\n",
       "      <td>25.0</td>\n",
       "      <td>Feminino Cis</td>\n",
       "      <td>Branco</td>\n",
       "      <td>Heterossexual</td>\n",
       "      <td>Rio de Janeiro (RJ)</td>\n",
       "      <td>Brasil</td>\n",
       "      <td>Autônomo / Profissional liberal</td>\n",
       "      <td>3</td>\n",
       "      <td>20.0</td>\n",
       "      <td>Qualidade e diversidade do conteúdo</td>\n",
       "      <td>...</td>\n",
       "      <td>0</td>\n",
       "      <td>2 - Anuncia um produto ou serviço muito bom</td>\n",
       "      <td>1</td>\n",
       "      <td>1</td>\n",
       "      <td>1</td>\n",
       "      <td>1</td>\n",
       "      <td>1</td>\n",
       "      <td>1</td>\n",
       "      <td>0</td>\n",
       "      <td>3 - Às vezes, depende da posição no episódio</td>\n",
       "    </tr>\n",
       "    <tr>\n",
       "      <th>4</th>\n",
       "      <td>30.0</td>\n",
       "      <td>Masculino Cis</td>\n",
       "      <td>Branco</td>\n",
       "      <td>Heterossexual</td>\n",
       "      <td>Minas Gerais (MG)</td>\n",
       "      <td>Brasil</td>\n",
       "      <td>Não empregado</td>\n",
       "      <td>8</td>\n",
       "      <td>25.0</td>\n",
       "      <td>Liberdade para ouvir quando, como e onde eu qu...</td>\n",
       "      <td>...</td>\n",
       "      <td>0</td>\n",
       "      <td>2 - Anuncia um produto ou serviço muito bom</td>\n",
       "      <td>1</td>\n",
       "      <td>1</td>\n",
       "      <td>0</td>\n",
       "      <td>1</td>\n",
       "      <td>1</td>\n",
       "      <td>1</td>\n",
       "      <td>0</td>\n",
       "      <td>3 - Às vezes, depende da posição no episódio</td>\n",
       "    </tr>\n",
       "  </tbody>\n",
       "</table>\n",
       "<p>5 rows × 135 columns</p>\n",
       "</div>"
      ],
      "text/plain": [
       "   1. Qual a sua idade ? 4. Qual é seu gênero? 5. Qual sua raça / cor?   \\\n",
       "0                   35.0         Masculino Cis                   Branco   \n",
       "1                   30.0         Masculino Cis                    Preto   \n",
       "2                   34.0         Masculino Cis                    Pardo   \n",
       "3                   25.0          Feminino Cis                   Branco   \n",
       "4                   30.0         Masculino Cis                   Branco   \n",
       "\n",
       "  6. Qual sua orientação sexual 8. Em que Estado do Brasil você mora?  \\\n",
       "0                 Heterossexual                           Paraná (PR)   \n",
       "1                 Heterossexual                   Santa Catarina (SC)   \n",
       "2                 Heterossexual                Rio Grande do Sul (RS)   \n",
       "3                 Heterossexual                   Rio de Janeiro (RJ)   \n",
       "4                 Heterossexual                     Minas Gerais (MG)   \n",
       "\n",
       "  9. Em que país você vive?  \\\n",
       "0                    Brasil   \n",
       "1                    Brasil   \n",
       "2                    Brasil   \n",
       "3                    Brasil   \n",
       "4                    Brasil   \n",
       "\n",
       "  10. Qual das opções abaixo melhor descreve a sua situação empregatícia?  \\\n",
       "0                    Autônomo / Profissional liberal                        \n",
       "1                                      Não empregado                        \n",
       "2                            Empregador / Empresário                        \n",
       "3                    Autônomo / Profissional liberal                        \n",
       "4                                      Não empregado                        \n",
       "\n",
       "  12. Há quantos anos você ouve podcast?  \\\n",
       "0                                      6   \n",
       "1                                      4   \n",
       "2                                      3   \n",
       "3                                      3   \n",
       "4                                      8   \n",
       "\n",
       "   13. Aproximadamente quantos podcasts você ouve ?  \\\n",
       "0                                              12.0   \n",
       "1                                              10.0   \n",
       "2                                              10.0   \n",
       "3                                              20.0   \n",
       "4                                              25.0   \n",
       "\n",
       "               14. O que levou você a ouvir podcast?  ...  \\\n",
       "0                Qualidade e diversidade do conteúdo  ...   \n",
       "1  Liberdade para ouvir quando, como e onde eu qu...  ...   \n",
       "2  Liberdade para ouvir quando, como e onde eu qu...  ...   \n",
       "3                Qualidade e diversidade do conteúdo  ...   \n",
       "4  Liberdade para ouvir quando, como e onde eu qu...  ...   \n",
       "\n",
       "  25 - Comportamento Redes Sociais - 04 Procuro interagir com eles mas nunca fui notado  \\\n",
       "0                                                  0                                      \n",
       "1                                                  0                                      \n",
       "2                                                  0                                      \n",
       "3                                                  0                                      \n",
       "4                                                  0                                      \n",
       "\n",
       "                             26. Propaganda Ajustada  \\\n",
       "0  3 - O anúncio é do próprio podcast (loja própr...   \n",
       "1               1 - Tem a ver com o tema do episódio   \n",
       "2  5 - Não presto atenção aos anúncios e propagandas   \n",
       "3        2 - Anuncia um produto ou serviço muito bom   \n",
       "4        2 - Anuncia um produto ou serviço muito bom   \n",
       "\n",
       "  27 - Ocasiões que ouve - 01 Quando estou navegando na internet  \\\n",
       "0                                                  1               \n",
       "1                                                  0               \n",
       "2                                                  0               \n",
       "3                                                  1               \n",
       "4                                                  1               \n",
       "\n",
       "  27 - Ocasiões que ouve - 02 Quando estou me locomovendo  \\\n",
       "0                                                  1        \n",
       "1                                                  1        \n",
       "2                                                  0        \n",
       "3                                                  1        \n",
       "4                                                  1        \n",
       "\n",
       "  27 - Ocasiões que ouve - 03 Quando estou trabalhando/estudando/lendo  \\\n",
       "0                                                  1                     \n",
       "1                                                  1                     \n",
       "2                                                  0                     \n",
       "3                                                  1                     \n",
       "4                                                  0                     \n",
       "\n",
       "  27 - Ocasiões que ouve - 04 Durante a prática de atividades físicas  \\\n",
       "0                                                  1                    \n",
       "1                                                  0                    \n",
       "2                                                  0                    \n",
       "3                                                  1                    \n",
       "4                                                  1                    \n",
       "\n",
       "  27 - Ocasiões que ouve - 05 Durante a realização de tarefas domésticas  \\\n",
       "0                                                  1                       \n",
       "1                                                  1                       \n",
       "2                                                  0                       \n",
       "3                                                  1                       \n",
       "4                                                  1                       \n",
       "\n",
       "  27 - Ocasiões que ouve - 06 Antes de dormir  \\\n",
       "0                                           1   \n",
       "1                                           1   \n",
       "2                                           1   \n",
       "3                                           1   \n",
       "4                                           1   \n",
       "\n",
       "   27 - Ocasiões que ouve - 07 Não divido com outras atividades  \\\n",
       "0                                                  0              \n",
       "1                                                  0              \n",
       "2                                                  0              \n",
       "3                                                  0              \n",
       "4                                                  0              \n",
       "\n",
       "  28. Você ouve a sessão de recados e leitura de emails / feedback de ouvintes?Ajustado  \n",
       "0                                    1 - Sim, Sempre                                     \n",
       "1       3 - Às vezes, depende da posição no episódio                                     \n",
       "2                                    1 - Sim, Sempre                                     \n",
       "3       3 - Às vezes, depende da posição no episódio                                     \n",
       "4       3 - Às vezes, depende da posição no episódio                                     \n",
       "\n",
       "[5 rows x 135 columns]"
      ]
     },
     "execution_count": 5,
     "metadata": {},
     "output_type": "execute_result"
    }
   ],
   "source": [
    "dataset = dataset.drop(columns=[\"Resposta\", \"7. Qual é sua localidade atual ?\", \"11. Aproximadamente, qual é a sua renda familiar mensal (em R$)?\", \"2. Qual é o seu estado civil ?\", \"3. Qual o seu nível de escolaridade?\"])\n",
    "dataset.head()"
   ]
  },
  {
   "cell_type": "markdown",
   "metadata": {},
   "source": [
    "## Vendo quais colunas possuem valores nulos"
   ]
  },
  {
   "cell_type": "code",
   "execution_count": 6,
   "metadata": {},
   "outputs": [
    {
     "data": {
      "text/plain": [
       "1. Qual a sua idade ?                                                                     4\n",
       "4. Qual é seu gênero?                                                                    49\n",
       "5. Qual sua raça / cor?                                                                  56\n",
       "6. Qual sua orientação sexual                                                            37\n",
       "8. Em que Estado do Brasil você mora?                                                     4\n",
       "                                                                                         ..\n",
       "27 - Ocasiões que ouve - 04 Durante a prática de atividades físicas                       0\n",
       "27 - Ocasiões que ouve - 05 Durante a realização de tarefas domésticas                    0\n",
       "27 - Ocasiões que ouve - 06 Antes de dormir                                               0\n",
       "27 - Ocasiões que ouve - 07 Não divido com outras atividades                              0\n",
       "28. Você ouve a sessão de recados e leitura de emails / feedback de ouvintes?Ajustado     0\n",
       "Length: 135, dtype: int64"
      ]
     },
     "execution_count": 6,
     "metadata": {},
     "output_type": "execute_result"
    }
   ],
   "source": [
    "dataset.isnull().sum()"
   ]
  },
  {
   "cell_type": "markdown",
   "metadata": {},
   "source": [
    "## A coluna idade para nós é muito importante, sendo assim desejamos completar os valores nulos dela com a média da idade da coluna."
   ]
  },
  {
   "cell_type": "code",
   "execution_count": 7,
   "metadata": {},
   "outputs": [
    {
     "name": "stdout",
     "output_type": "stream",
     "text": [
      "27.0\n"
     ]
    }
   ],
   "source": [
    "mediana = dataset['1. Qual a sua idade ?'].median()\n",
    "print(mediana)"
   ]
  },
  {
   "cell_type": "code",
   "execution_count": 8,
   "metadata": {},
   "outputs": [
    {
     "data": {
      "text/html": [
       "<div>\n",
       "<style scoped>\n",
       "    .dataframe tbody tr th:only-of-type {\n",
       "        vertical-align: middle;\n",
       "    }\n",
       "\n",
       "    .dataframe tbody tr th {\n",
       "        vertical-align: top;\n",
       "    }\n",
       "\n",
       "    .dataframe thead th {\n",
       "        text-align: right;\n",
       "    }\n",
       "</style>\n",
       "<table border=\"1\" class=\"dataframe\">\n",
       "  <thead>\n",
       "    <tr style=\"text-align: right;\">\n",
       "      <th></th>\n",
       "      <th>1. Qual a sua idade ?</th>\n",
       "      <th>4. Qual é seu gênero?</th>\n",
       "      <th>5. Qual sua raça / cor?</th>\n",
       "      <th>6. Qual sua orientação sexual</th>\n",
       "      <th>8. Em que Estado do Brasil você mora?</th>\n",
       "      <th>9. Em que país você vive?</th>\n",
       "      <th>10. Qual das opções abaixo melhor descreve a sua situação empregatícia?</th>\n",
       "      <th>12. Há quantos anos você ouve podcast?</th>\n",
       "      <th>13. Aproximadamente quantos podcasts você ouve ?</th>\n",
       "      <th>14. O que levou você a ouvir podcast?</th>\n",
       "      <th>...</th>\n",
       "      <th>25 - Comportamento Redes Sociais - 04 Procuro interagir com eles mas nunca fui notado</th>\n",
       "      <th>26. Propaganda Ajustada</th>\n",
       "      <th>27 - Ocasiões que ouve - 01 Quando estou navegando na internet</th>\n",
       "      <th>27 - Ocasiões que ouve - 02 Quando estou me locomovendo</th>\n",
       "      <th>27 - Ocasiões que ouve - 03 Quando estou trabalhando/estudando/lendo</th>\n",
       "      <th>27 - Ocasiões que ouve - 04 Durante a prática de atividades físicas</th>\n",
       "      <th>27 - Ocasiões que ouve - 05 Durante a realização de tarefas domésticas</th>\n",
       "      <th>27 - Ocasiões que ouve - 06 Antes de dormir</th>\n",
       "      <th>27 - Ocasiões que ouve - 07 Não divido com outras atividades</th>\n",
       "      <th>28. Você ouve a sessão de recados e leitura de emails / feedback de ouvintes?Ajustado</th>\n",
       "    </tr>\n",
       "  </thead>\n",
       "  <tbody>\n",
       "    <tr>\n",
       "      <th>7</th>\n",
       "      <td>27.0</td>\n",
       "      <td>Feminino Cis</td>\n",
       "      <td>Branco</td>\n",
       "      <td>Assexual</td>\n",
       "      <td>São Paulo (SP)</td>\n",
       "      <td>Brasil</td>\n",
       "      <td>Autônomo / Profissional liberal</td>\n",
       "      <td>5</td>\n",
       "      <td>4.0</td>\n",
       "      <td>Liberdade para ouvir quando, como e onde eu qu...</td>\n",
       "      <td>...</td>\n",
       "      <td>0</td>\n",
       "      <td>1 - Tem a ver com o tema do episódio</td>\n",
       "      <td>1</td>\n",
       "      <td>0</td>\n",
       "      <td>1</td>\n",
       "      <td>0</td>\n",
       "      <td>1</td>\n",
       "      <td>1</td>\n",
       "      <td>0</td>\n",
       "      <td>3 - Às vezes, depende da posição no episódio</td>\n",
       "    </tr>\n",
       "    <tr>\n",
       "      <th>13</th>\n",
       "      <td>27.0</td>\n",
       "      <td>Feminino Cis</td>\n",
       "      <td>Branco</td>\n",
       "      <td>Heterossexual</td>\n",
       "      <td>São Paulo (SP)</td>\n",
       "      <td>Brasil</td>\n",
       "      <td>Empregador / Empresário</td>\n",
       "      <td>3</td>\n",
       "      <td>30.0</td>\n",
       "      <td>Liberdade para ouvir quando, como e onde eu qu...</td>\n",
       "      <td>...</td>\n",
       "      <td>0</td>\n",
       "      <td>4 - Oferece algum desconto para os ouvintes</td>\n",
       "      <td>0</td>\n",
       "      <td>1</td>\n",
       "      <td>0</td>\n",
       "      <td>0</td>\n",
       "      <td>1</td>\n",
       "      <td>0</td>\n",
       "      <td>0</td>\n",
       "      <td>2 - Não, nunca</td>\n",
       "    </tr>\n",
       "    <tr>\n",
       "      <th>32</th>\n",
       "      <td>27.0</td>\n",
       "      <td>Feminino Cis</td>\n",
       "      <td>Pardo</td>\n",
       "      <td>Heterossexual</td>\n",
       "      <td>São Paulo (SP)</td>\n",
       "      <td>Brasil</td>\n",
       "      <td>Empregado assalariado com ou sem carteira assi...</td>\n",
       "      <td>Até 1</td>\n",
       "      <td>5.0</td>\n",
       "      <td>Liberdade para ouvir quando, como e onde eu qu...</td>\n",
       "      <td>...</td>\n",
       "      <td>0</td>\n",
       "      <td>5 - Não presto atenção aos anúncios e propagandas</td>\n",
       "      <td>0</td>\n",
       "      <td>1</td>\n",
       "      <td>1</td>\n",
       "      <td>1</td>\n",
       "      <td>0</td>\n",
       "      <td>0</td>\n",
       "      <td>0</td>\n",
       "      <td>4 - Outros</td>\n",
       "    </tr>\n",
       "    <tr>\n",
       "      <th>38</th>\n",
       "      <td>27.0</td>\n",
       "      <td>Masculino Cis</td>\n",
       "      <td>Branco</td>\n",
       "      <td>Heterossexual</td>\n",
       "      <td>Minas Gerais (MG)</td>\n",
       "      <td>Brasil</td>\n",
       "      <td>Empregado assalariado com ou sem carteira assi...</td>\n",
       "      <td>Mais de 10</td>\n",
       "      <td>20.0</td>\n",
       "      <td>Qualidade e diversidade do conteúdo</td>\n",
       "      <td>...</td>\n",
       "      <td>1</td>\n",
       "      <td>1 - Tem a ver com o tema do episódio</td>\n",
       "      <td>1</td>\n",
       "      <td>1</td>\n",
       "      <td>0</td>\n",
       "      <td>0</td>\n",
       "      <td>1</td>\n",
       "      <td>1</td>\n",
       "      <td>0</td>\n",
       "      <td>2 - Não, nunca</td>\n",
       "    </tr>\n",
       "    <tr>\n",
       "      <th>62</th>\n",
       "      <td>27.0</td>\n",
       "      <td>Masculino Cis</td>\n",
       "      <td>Branco</td>\n",
       "      <td>Heterossexual</td>\n",
       "      <td>Rio de Janeiro (RJ)</td>\n",
       "      <td>Brasil</td>\n",
       "      <td>Pesquisador</td>\n",
       "      <td>7</td>\n",
       "      <td>3.0</td>\n",
       "      <td>Qualidade e diversidade do conteúdo</td>\n",
       "      <td>...</td>\n",
       "      <td>0</td>\n",
       "      <td>1 - Tem a ver com o tema do episódio</td>\n",
       "      <td>0</td>\n",
       "      <td>0</td>\n",
       "      <td>1</td>\n",
       "      <td>1</td>\n",
       "      <td>1</td>\n",
       "      <td>0</td>\n",
       "      <td>0</td>\n",
       "      <td>1 - Sim, Sempre</td>\n",
       "    </tr>\n",
       "  </tbody>\n",
       "</table>\n",
       "<p>5 rows × 135 columns</p>\n",
       "</div>"
      ],
      "text/plain": [
       "    1. Qual a sua idade ? 4. Qual é seu gênero? 5. Qual sua raça / cor?   \\\n",
       "7                    27.0          Feminino Cis                   Branco   \n",
       "13                   27.0          Feminino Cis                   Branco   \n",
       "32                   27.0          Feminino Cis                    Pardo   \n",
       "38                   27.0         Masculino Cis                   Branco   \n",
       "62                   27.0         Masculino Cis                   Branco   \n",
       "\n",
       "   6. Qual sua orientação sexual 8. Em que Estado do Brasil você mora?  \\\n",
       "7                       Assexual                        São Paulo (SP)   \n",
       "13                 Heterossexual                        São Paulo (SP)   \n",
       "32                 Heterossexual                        São Paulo (SP)   \n",
       "38                 Heterossexual                     Minas Gerais (MG)   \n",
       "62                 Heterossexual                   Rio de Janeiro (RJ)   \n",
       "\n",
       "   9. Em que país você vive?  \\\n",
       "7                     Brasil   \n",
       "13                    Brasil   \n",
       "32                    Brasil   \n",
       "38                    Brasil   \n",
       "62                    Brasil   \n",
       "\n",
       "   10. Qual das opções abaixo melhor descreve a sua situação empregatícia?  \\\n",
       "7                     Autônomo / Profissional liberal                        \n",
       "13                            Empregador / Empresário                        \n",
       "32  Empregado assalariado com ou sem carteira assi...                        \n",
       "38  Empregado assalariado com ou sem carteira assi...                        \n",
       "62                                        Pesquisador                        \n",
       "\n",
       "   12. Há quantos anos você ouve podcast?  \\\n",
       "7                                       5   \n",
       "13                                      3   \n",
       "32                                  Até 1   \n",
       "38                             Mais de 10   \n",
       "62                                      7   \n",
       "\n",
       "    13. Aproximadamente quantos podcasts você ouve ?  \\\n",
       "7                                                4.0   \n",
       "13                                              30.0   \n",
       "32                                               5.0   \n",
       "38                                              20.0   \n",
       "62                                               3.0   \n",
       "\n",
       "                14. O que levou você a ouvir podcast?  ...  \\\n",
       "7   Liberdade para ouvir quando, como e onde eu qu...  ...   \n",
       "13  Liberdade para ouvir quando, como e onde eu qu...  ...   \n",
       "32  Liberdade para ouvir quando, como e onde eu qu...  ...   \n",
       "38                Qualidade e diversidade do conteúdo  ...   \n",
       "62                Qualidade e diversidade do conteúdo  ...   \n",
       "\n",
       "   25 - Comportamento Redes Sociais - 04 Procuro interagir com eles mas nunca fui notado  \\\n",
       "7                                                   0                                      \n",
       "13                                                  0                                      \n",
       "32                                                  0                                      \n",
       "38                                                  1                                      \n",
       "62                                                  0                                      \n",
       "\n",
       "                              26. Propaganda Ajustada  \\\n",
       "7                1 - Tem a ver com o tema do episódio   \n",
       "13        4 - Oferece algum desconto para os ouvintes   \n",
       "32  5 - Não presto atenção aos anúncios e propagandas   \n",
       "38               1 - Tem a ver com o tema do episódio   \n",
       "62               1 - Tem a ver com o tema do episódio   \n",
       "\n",
       "   27 - Ocasiões que ouve - 01 Quando estou navegando na internet  \\\n",
       "7                                                   1               \n",
       "13                                                  0               \n",
       "32                                                  0               \n",
       "38                                                  1               \n",
       "62                                                  0               \n",
       "\n",
       "   27 - Ocasiões que ouve - 02 Quando estou me locomovendo  \\\n",
       "7                                                   0        \n",
       "13                                                  1        \n",
       "32                                                  1        \n",
       "38                                                  1        \n",
       "62                                                  0        \n",
       "\n",
       "   27 - Ocasiões que ouve - 03 Quando estou trabalhando/estudando/lendo  \\\n",
       "7                                                   1                     \n",
       "13                                                  0                     \n",
       "32                                                  1                     \n",
       "38                                                  0                     \n",
       "62                                                  1                     \n",
       "\n",
       "   27 - Ocasiões que ouve - 04 Durante a prática de atividades físicas  \\\n",
       "7                                                   0                    \n",
       "13                                                  0                    \n",
       "32                                                  1                    \n",
       "38                                                  0                    \n",
       "62                                                  1                    \n",
       "\n",
       "   27 - Ocasiões que ouve - 05 Durante a realização de tarefas domésticas  \\\n",
       "7                                                   1                       \n",
       "13                                                  1                       \n",
       "32                                                  0                       \n",
       "38                                                  1                       \n",
       "62                                                  1                       \n",
       "\n",
       "   27 - Ocasiões que ouve - 06 Antes de dormir  \\\n",
       "7                                            1   \n",
       "13                                           0   \n",
       "32                                           0   \n",
       "38                                           1   \n",
       "62                                           0   \n",
       "\n",
       "    27 - Ocasiões que ouve - 07 Não divido com outras atividades  \\\n",
       "7                                                   0              \n",
       "13                                                  0              \n",
       "32                                                  0              \n",
       "38                                                  0              \n",
       "62                                                  0              \n",
       "\n",
       "   28. Você ouve a sessão de recados e leitura de emails / feedback de ouvintes?Ajustado  \n",
       "7        3 - Às vezes, depende da posição no episódio                                     \n",
       "13                                     2 - Não, nunca                                     \n",
       "32                                         4 - Outros                                     \n",
       "38                                     2 - Não, nunca                                     \n",
       "62                                    1 - Sim, Sempre                                     \n",
       "\n",
       "[5 rows x 135 columns]"
      ]
     },
     "execution_count": 8,
     "metadata": {},
     "output_type": "execute_result"
    }
   ],
   "source": [
    "dataset.update(dataset['1. Qual a sua idade ?'].fillna(mediana))\n",
    "dataset.loc[dataset['1. Qual a sua idade ?']==27].head()"
   ]
  },
  {
   "cell_type": "code",
   "execution_count": 9,
   "metadata": {},
   "outputs": [
    {
     "data": {
      "text/plain": [
       "1. Qual a sua idade ?                                                                     0\n",
       "4. Qual é seu gênero?                                                                    49\n",
       "5. Qual sua raça / cor?                                                                  56\n",
       "6. Qual sua orientação sexual                                                            37\n",
       "8. Em que Estado do Brasil você mora?                                                     4\n",
       "                                                                                         ..\n",
       "27 - Ocasiões que ouve - 04 Durante a prática de atividades físicas                       0\n",
       "27 - Ocasiões que ouve - 05 Durante a realização de tarefas domésticas                    0\n",
       "27 - Ocasiões que ouve - 06 Antes de dormir                                               0\n",
       "27 - Ocasiões que ouve - 07 Não divido com outras atividades                              0\n",
       "28. Você ouve a sessão de recados e leitura de emails / feedback de ouvintes?Ajustado     0\n",
       "Length: 135, dtype: int64"
      ]
     },
     "execution_count": 9,
     "metadata": {},
     "output_type": "execute_result"
    }
   ],
   "source": [
    "dataset.isnull().sum()"
   ]
  },
  {
   "cell_type": "markdown",
   "metadata": {},
   "source": [
    "## Apagando linhas com valores nulos"
   ]
  },
  {
   "cell_type": "code",
   "execution_count": 10,
   "metadata": {},
   "outputs": [],
   "source": [
    "dataset = dataset.dropna(subset=['4. Qual é seu gênero?'])"
   ]
  },
  {
   "cell_type": "code",
   "execution_count": 11,
   "metadata": {},
   "outputs": [],
   "source": [
    "dataset = dataset.dropna(subset=['6. Qual sua orientação sexual'])"
   ]
  },
  {
   "cell_type": "code",
   "execution_count": 12,
   "metadata": {},
   "outputs": [
    {
     "data": {
      "text/plain": [
       "1. Qual a sua idade ?                                                                     0\n",
       "4. Qual é seu gênero?                                                                     0\n",
       "5. Qual sua raça / cor?                                                                  36\n",
       "6. Qual sua orientação sexual                                                             0\n",
       "8. Em que Estado do Brasil você mora?                                                     0\n",
       "                                                                                         ..\n",
       "27 - Ocasiões que ouve - 04 Durante a prática de atividades físicas                       0\n",
       "27 - Ocasiões que ouve - 05 Durante a realização de tarefas domésticas                    0\n",
       "27 - Ocasiões que ouve - 06 Antes de dormir                                               0\n",
       "27 - Ocasiões que ouve - 07 Não divido com outras atividades                              0\n",
       "28. Você ouve a sessão de recados e leitura de emails / feedback de ouvintes?Ajustado     0\n",
       "Length: 135, dtype: int64"
      ]
     },
     "execution_count": 12,
     "metadata": {},
     "output_type": "execute_result"
    }
   ],
   "source": [
    "dataset.isnull().sum()"
   ]
  },
  {
   "cell_type": "markdown",
   "metadata": {},
   "source": [
    "## Nessa visualização desejamos ter uma noção de qual era a faixa etária que mais consumia podcast"
   ]
  },
  {
   "cell_type": "code",
   "execution_count": 13,
   "metadata": {},
   "outputs": [
    {
     "data": {
      "text/plain": [
       "<matplotlib.axes._subplots.AxesSubplot at 0x1d407949220>"
      ]
     },
     "execution_count": 13,
     "metadata": {},
     "output_type": "execute_result"
    },
    {
     "data": {
      "image/png": "[encoded data removed]",
      "text/plain": [
       "<Figure size 432x288 with 1 Axes>"
      ]
     },
     "metadata": {},
     "output_type": "display_data"
    }
   ],
   "source": [
    "data = [1.5]*7 + [2.5]*2 + [3.5]*8 + [4.5]*3 + [5.5]*1 + [6.5]*8\n",
    "sns.set_style('whitegrid')\n",
    "sns.distplot(dataset['1. Qual a sua idade ?'].dropna())"
   ]
  },
  {
   "cell_type": "markdown",
   "metadata": {},
   "source": [
    "## Para o nosso projeto, esse tipo de insight é muito importante, tendo em vista que temos como tema o \"entretenimento\", e a partir deste gráfico podemos ver que as pessoas consomem mais podcast com esse intuito."
   ]
  },
  {
   "cell_type": "code",
   "execution_count": 14,
   "metadata": {},
   "outputs": [
    {
     "name": "stderr",
     "output_type": "stream",
     "text": [
      "C:\\Users\\Jean\\anaconda3\\lib\\site-packages\\seaborn\\categorical.py:3692: UserWarning: The `size` parameter has been renamed to `height`; please update your code.\n",
      "  warnings.warn(msg, UserWarning)\n"
     ]
    },
    {
     "data": {
      "text/plain": [
       "<seaborn.axisgrid.FacetGrid at 0x1d407496af0>"
      ]
     },
     "execution_count": 14,
     "metadata": {},
     "output_type": "execute_result"
    },
    {
     "data": {
      "image/png": "[encoded data removed]",
      "text/plain": [
       "<Figure size 864x432 with 1 Axes>"
      ]
     },
     "metadata": {},
     "output_type": "display_data"
    }
   ],
   "source": [
    "sns.catplot('19. Você ouve podcast com o principal objetivo de...?', data=dataset, kind='count',size=6, aspect=2)"
   ]
  },
  {
   "cell_type": "markdown",
   "metadata": {},
   "source": [
    "## Aqui conseguimos visualizar qual o objetivo de se assistir podcast para as médias de idades"
   ]
  },
  {
   "cell_type": "markdown",
   "metadata": {},
   "source": [
    "### Podemos notar que para pessoas mais velhas, o principal intuito é de se informar, e ja para as pessoas mais novas,  elas buscam mais se entreter"
   ]
  },
  {
   "cell_type": "code",
   "execution_count": 15,
   "metadata": {},
   "outputs": [
    {
     "data": {
      "text/plain": [
       "<matplotlib.axes._subplots.AxesSubplot at 0x1d4073e0310>"
      ]
     },
     "execution_count": 15,
     "metadata": {},
     "output_type": "execute_result"
    },
    {
     "data": {
      "image/png": "[encoded data removed]",
      "text/plain": [
       "<Figure size 432x288 with 1 Axes>"
      ]
     },
     "metadata": {},
     "output_type": "display_data"
    }
   ],
   "source": [
    "result = dataset.groupby('19. Você ouve podcast com o principal objetivo de...?')['1. Qual a sua idade ?'].agg('mean')\n",
    "result.plot(kind='bar')"
   ]
  },
  {
   "cell_type": "markdown",
   "metadata": {},
   "source": [
    "## Plataformas que são mais consumidas"
   ]
  },
  {
   "cell_type": "code",
   "execution_count": 16,
   "metadata": {},
   "outputs": [
    {
     "data": {
      "text/plain": [
       "<matplotlib.axes._subplots.AxesSubplot at 0x1d406c6af40>"
      ]
     },
     "execution_count": 16,
     "metadata": {},
     "output_type": "execute_result"
    },
    {
     "data": {
      "image/png": "[encoded data removed]",
      "text/plain": [
       "<Figure size 432x288 with 1 Axes>"
      ]
     },
     "metadata": {},
     "output_type": "display_data"
    }
   ],
   "source": [
    "result = dataset.groupby('15. Por onde você ouve podcast a maioria das vezes? AGREGADO')['13. Aproximadamente quantos podcasts você ouve ?'].agg('mean')\n",
    "result.plot(kind='bar')"
   ]
  },
  {
   "cell_type": "markdown",
   "metadata": {},
   "source": [
    "## Queriamos ver se teria algum nível de desigualdade, e a visualização acabou supreendendo, tendo como a raça preta uma alta consumista de podcast."
   ]
  },
  {
   "cell_type": "code",
   "execution_count": 17,
   "metadata": {},
   "outputs": [
    {
     "data": {
      "text/plain": [
       "<matplotlib.axes._subplots.AxesSubplot at 0x1d406e0cbb0>"
      ]
     },
     "execution_count": 17,
     "metadata": {},
     "output_type": "execute_result"
    },
    {
     "data": {
      "image/png": "[encoded data removed]",
      "text/plain": [
       "<Figure size 432x288 with 1 Axes>"
      ]
     },
     "metadata": {},
     "output_type": "display_data"
    }
   ],
   "source": [
    "result = dataset.groupby('Raça/Cor Ajustada')['13. Aproximadamente quantos podcasts você ouve ?'].agg('mean')\n",
    "result.plot(kind='bar')"
   ]
  },
  {
   "cell_type": "markdown",
   "metadata": {},
   "source": [
    "## Gostariamos de ver qual nível de escolaridade consome mais podcast"
   ]
  },
  {
   "cell_type": "code",
   "execution_count": 18,
   "metadata": {},
   "outputs": [
    {
     "data": {
      "text/plain": [
       "<matplotlib.axes._subplots.AxesSubplot at 0x1d4074af040>"
      ]
     },
     "execution_count": 18,
     "metadata": {},
     "output_type": "execute_result"
    },
    {
     "data": {
      "image/png": "[encoded data removed]",
      "text/plain": [
       "<Figure size 432x288 with 1 Axes>"
      ]
     },
     "metadata": {},
     "output_type": "display_data"
    }
   ],
   "source": [
    "result = dataset.groupby('3. Nível de escolaridade - Ajustado')['13. Aproximadamente quantos podcasts você ouve ?'].agg('mean')\n",
    "result.plot(kind='bar')"
   ]
  },
  {
   "cell_type": "markdown",
   "metadata": {},
   "source": [
    "## Quais regiões que mais consomem"
   ]
  },
  {
   "cell_type": "code",
   "execution_count": 19,
   "metadata": {},
   "outputs": [
    {
     "data": {
      "text/plain": [
       "<matplotlib.axes._subplots.AxesSubplot at 0x1d407538b80>"
      ]
     },
     "execution_count": 19,
     "metadata": {},
     "output_type": "execute_result"
    },
    {
     "data": {
      "image/png": "[encoded data removed]",
      "text/plain": [
       "<Figure size 432x288 with 1 Axes>"
      ]
     },
     "metadata": {},
     "output_type": "display_data"
    }
   ],
   "source": [
    "result = dataset.groupby('Macro-Região')['13. Aproximadamente quantos podcasts você ouve ?'].agg('mean')\n",
    "result.plot(kind='bar')"
   ]
  },
  {
   "cell_type": "markdown",
   "metadata": {},
   "source": [
    "## Estados que mais consomes"
   ]
  },
  {
   "cell_type": "code",
   "execution_count": 20,
   "metadata": {},
   "outputs": [
    {
     "data": {
      "text/plain": [
       "<matplotlib.axes._subplots.AxesSubplot at 0x1d4075c8ee0>"
      ]
     },
     "execution_count": 20,
     "metadata": {},
     "output_type": "execute_result"
    },
    {
     "data": {
      "image/png": "[encoded data removed]",
      "text/plain": [
       "<Figure size 432x288 with 1 Axes>"
      ]
     },
     "metadata": {},
     "output_type": "display_data"
    }
   ],
   "source": [
    "result = dataset.groupby('Estado Ajustado')['13. Aproximadamente quantos podcasts você ouve ?'].agg('mean')\n",
    "result.plot(kind='bar')"
   ]
  },
  {
   "cell_type": "markdown",
   "metadata": {},
   "source": [
    "## Gêneros que mais consomem"
   ]
  },
  {
   "cell_type": "code",
   "execution_count": 21,
   "metadata": {},
   "outputs": [
    {
     "data": {
      "text/plain": [
       "<matplotlib.axes._subplots.AxesSubplot at 0x1d40167b8e0>"
      ]
     },
     "execution_count": 21,
     "metadata": {},
     "output_type": "execute_result"
    },
    {
     "data": {
      "image/png": "[encoded data removed]",
      "text/plain": [
       "<Figure size 432x288 with 1 Axes>"
      ]
     },
     "metadata": {},
     "output_type": "display_data"
    }
   ],
   "source": [
    "result = dataset.groupby('Gênero ajustado')['13. Aproximadamente quantos podcasts você ouve ?'].agg('mean')\n",
    "result.plot(kind='bar')"
   ]
  },
  {
   "cell_type": "markdown",
   "metadata": {},
   "source": [
    "## Insigth importantíssimo para ver se as pessoas respondem pesquisas / dão feedbacks por e-mail"
   ]
  },
  {
   "cell_type": "code",
   "execution_count": 22,
   "metadata": {},
   "outputs": [
    {
     "data": {
      "text/plain": [
       "<seaborn.axisgrid.FacetGrid at 0x1d40752ce50>"
      ]
     },
     "execution_count": 22,
     "metadata": {},
     "output_type": "execute_result"
    },
    {
     "data": {
      "image/png": "[encoded data removed]",
      "text/plain": [
       "<Figure size 720x720 with 1 Axes>"
      ]
     },
     "metadata": {},
     "output_type": "display_data"
    }
   ],
   "source": [
    "sns.catplot('28. Você ouve a sessão de recados e leitura de emails / feedback de ouvintes?Ajustado', data=dataset, kind='count',size=10, aspect=1)"
   ]
  },
  {
   "cell_type": "markdown",
   "metadata": {},
   "source": [
    "## Aqui conseguimos perceber que a grande massa de podcast está se formando de alguns anos para cá, isso bate com a nossa pesquisa, que mostra que o ouvinte de podcast vem aumentando bastante nos ultimos anos."
   ]
  },
  {
   "cell_type": "code",
   "execution_count": 23,
   "metadata": {},
   "outputs": [
    {
     "data": {
      "text/plain": [
       "<seaborn.axisgrid.FacetGrid at 0x1d406ec69d0>"
      ]
     },
     "execution_count": 23,
     "metadata": {},
     "output_type": "execute_result"
    },
    {
     "data": {
      "image/png": "[encoded data removed]",
      "text/plain": [
       "<Figure size 1440x720 with 1 Axes>"
      ]
     },
     "metadata": {},
     "output_type": "display_data"
    }
   ],
   "source": [
    "sns.catplot('12. Há quantos anos você ouve podcast? Ajustada', data=dataset, kind='count',size=10, aspect=2)"
   ]
  },
  {
   "cell_type": "markdown",
   "metadata": {},
   "source": [
    "## Plotando a dispersão de idade vs Até quanto você pagaria para consumir os conteúdos do podcast"
   ]
  },
  {
   "cell_type": "code",
   "execution_count": 24,
   "metadata": {},
   "outputs": [],
   "source": [
    "%matplotlib inline\n",
    "from matplotlib import pyplot as plt"
   ]
  },
  {
   "cell_type": "code",
   "execution_count": 25,
   "metadata": {},
   "outputs": [
    {
     "data": {
      "image/png": "[encoded data removed]",
      "text/plain": [
       "<Figure size 432x288 with 1 Axes>"
      ]
     },
     "metadata": {
      "needs_background": "light"
     },
     "output_type": "display_data"
    }
   ],
   "source": [
    "plt.scatter(dataset['1. Qual a sua idade ?'],dataset['23. Até quanto você pagaria (mensalmente em R$) para consumir conteúdos exclusivos do seu podcast favorito?'])\n",
    "plt.show()"
   ]
  },
  {
   "cell_type": "code",
   "execution_count": 26,
   "metadata": {},
   "outputs": [
    {
     "data": {
      "text/plain": [
       "<seaborn.axisgrid.FacetGrid at 0x1d40752fa90>"
      ]
     },
     "execution_count": 26,
     "metadata": {},
     "output_type": "execute_result"
    },
    {
     "data": {
      "image/png": "[encoded data removed]",
      "text/plain": [
       "<Figure size 360x360 with 1 Axes>"
      ]
     },
     "metadata": {
      "needs_background": "light"
     },
     "output_type": "display_data"
    }
   ],
   "source": [
    "sns.lmplot(data=dataset, x='1. Qual a sua idade ?', y='23. Até quanto você pagaria (mensalmente em R$) para consumir conteúdos exclusivos do seu podcast favorito?', line_kws={'color': 'red'})"
   ]
  },
  {
   "cell_type": "markdown",
   "metadata": {},
   "source": [
    "## Normalizando os dados"
   ]
  },
  {
   "cell_type": "markdown",
   "metadata": {},
   "source": [
    "Separando as colunas que irei utilizar em um dataset dataframe diferente"
   ]
  },
  {
   "cell_type": "code",
   "execution_count": 27,
   "metadata": {},
   "outputs": [],
   "source": [
    "dataset_new = dataset[['1. Qual a sua idade ?','23. Até quanto você pagaria (mensalmente em R$) para consumir conteúdos exclusivos do seu podcast favorito?']].copy()"
   ]
  },
  {
   "cell_type": "code",
   "execution_count": 28,
   "metadata": {},
   "outputs": [
    {
     "data": {
      "text/html": [
       "<div>\n",
       "<style scoped>\n",
       "    .dataframe tbody tr th:only-of-type {\n",
       "        vertical-align: middle;\n",
       "    }\n",
       "\n",
       "    .dataframe tbody tr th {\n",
       "        vertical-align: top;\n",
       "    }\n",
       "\n",
       "    .dataframe thead th {\n",
       "        text-align: right;\n",
       "    }\n",
       "</style>\n",
       "<table border=\"1\" class=\"dataframe\">\n",
       "  <thead>\n",
       "    <tr style=\"text-align: right;\">\n",
       "      <th></th>\n",
       "      <th>1. Qual a sua idade ?</th>\n",
       "      <th>23. Até quanto você pagaria (mensalmente em R$) para consumir conteúdos exclusivos do seu podcast favorito?</th>\n",
       "    </tr>\n",
       "  </thead>\n",
       "  <tbody>\n",
       "    <tr>\n",
       "      <th>0</th>\n",
       "      <td>35.0</td>\n",
       "      <td>50.0</td>\n",
       "    </tr>\n",
       "    <tr>\n",
       "      <th>1</th>\n",
       "      <td>30.0</td>\n",
       "      <td>20.0</td>\n",
       "    </tr>\n",
       "    <tr>\n",
       "      <th>2</th>\n",
       "      <td>34.0</td>\n",
       "      <td>10.0</td>\n",
       "    </tr>\n",
       "    <tr>\n",
       "      <th>3</th>\n",
       "      <td>25.0</td>\n",
       "      <td>10.0</td>\n",
       "    </tr>\n",
       "    <tr>\n",
       "      <th>4</th>\n",
       "      <td>30.0</td>\n",
       "      <td>0.0</td>\n",
       "    </tr>\n",
       "  </tbody>\n",
       "</table>\n",
       "</div>"
      ],
      "text/plain": [
       "   1. Qual a sua idade ?  \\\n",
       "0                   35.0   \n",
       "1                   30.0   \n",
       "2                   34.0   \n",
       "3                   25.0   \n",
       "4                   30.0   \n",
       "\n",
       "   23. Até quanto você pagaria (mensalmente em R$) para consumir conteúdos exclusivos do seu podcast favorito?  \n",
       "0                                               50.0                                                            \n",
       "1                                               20.0                                                            \n",
       "2                                               10.0                                                            \n",
       "3                                               10.0                                                            \n",
       "4                                                0.0                                                            "
      ]
     },
     "execution_count": 28,
     "metadata": {},
     "output_type": "execute_result"
    }
   ],
   "source": [
    "dataset_new.head()"
   ]
  },
  {
   "cell_type": "markdown",
   "metadata": {},
   "source": [
    "### Para normalizar os dados utilzei a função do python StandardScaler."
   ]
  },
  {
   "cell_type": "code",
   "execution_count": 29,
   "metadata": {},
   "outputs": [
    {
     "data": {
      "text/html": [
       "<div>\n",
       "<style scoped>\n",
       "    .dataframe tbody tr th:only-of-type {\n",
       "        vertical-align: middle;\n",
       "    }\n",
       "\n",
       "    .dataframe tbody tr th {\n",
       "        vertical-align: top;\n",
       "    }\n",
       "\n",
       "    .dataframe thead th {\n",
       "        text-align: right;\n",
       "    }\n",
       "</style>\n",
       "<table border=\"1\" class=\"dataframe\">\n",
       "  <thead>\n",
       "    <tr style=\"text-align: right;\">\n",
       "      <th></th>\n",
       "      <th>1. Qual a sua idade ?</th>\n",
       "      <th>23. Até quanto você pagaria (mensalmente em R$) para consumir conteúdos exclusivos do seu podcast favorito?</th>\n",
       "    </tr>\n",
       "  </thead>\n",
       "  <tbody>\n",
       "    <tr>\n",
       "      <th>0</th>\n",
       "      <td>0.795084</td>\n",
       "      <td>0.252396</td>\n",
       "    </tr>\n",
       "    <tr>\n",
       "      <th>1</th>\n",
       "      <td>0.181911</td>\n",
       "      <td>0.024110</td>\n",
       "    </tr>\n",
       "    <tr>\n",
       "      <th>2</th>\n",
       "      <td>0.672449</td>\n",
       "      <td>-0.051985</td>\n",
       "    </tr>\n",
       "    <tr>\n",
       "      <th>3</th>\n",
       "      <td>-0.431262</td>\n",
       "      <td>-0.051985</td>\n",
       "    </tr>\n",
       "    <tr>\n",
       "      <th>4</th>\n",
       "      <td>0.181911</td>\n",
       "      <td>-0.128080</td>\n",
       "    </tr>\n",
       "    <tr>\n",
       "      <th>...</th>\n",
       "      <td>...</td>\n",
       "      <td>...</td>\n",
       "    </tr>\n",
       "    <tr>\n",
       "      <th>16708</th>\n",
       "      <td>0.427180</td>\n",
       "      <td>-0.051985</td>\n",
       "    </tr>\n",
       "    <tr>\n",
       "      <th>16709</th>\n",
       "      <td>0.181911</td>\n",
       "      <td>-0.128080</td>\n",
       "    </tr>\n",
       "    <tr>\n",
       "      <th>16710</th>\n",
       "      <td>-0.308627</td>\n",
       "      <td>-0.128080</td>\n",
       "    </tr>\n",
       "    <tr>\n",
       "      <th>16711</th>\n",
       "      <td>1.776161</td>\n",
       "      <td>-0.112861</td>\n",
       "    </tr>\n",
       "    <tr>\n",
       "      <th>16712</th>\n",
       "      <td>-0.431262</td>\n",
       "      <td>-0.051985</td>\n",
       "    </tr>\n",
       "  </tbody>\n",
       "</table>\n",
       "<p>16644 rows × 2 columns</p>\n",
       "</div>"
      ],
      "text/plain": [
       "       1. Qual a sua idade ?  \\\n",
       "0                   0.795084   \n",
       "1                   0.181911   \n",
       "2                   0.672449   \n",
       "3                  -0.431262   \n",
       "4                   0.181911   \n",
       "...                      ...   \n",
       "16708               0.427180   \n",
       "16709               0.181911   \n",
       "16710              -0.308627   \n",
       "16711               1.776161   \n",
       "16712              -0.431262   \n",
       "\n",
       "       23. Até quanto você pagaria (mensalmente em R$) para consumir conteúdos exclusivos do seu podcast favorito?  \n",
       "0                                               0.252396                                                            \n",
       "1                                               0.024110                                                            \n",
       "2                                              -0.051985                                                            \n",
       "3                                              -0.051985                                                            \n",
       "4                                              -0.128080                                                            \n",
       "...                                                  ...                                                            \n",
       "16708                                          -0.051985                                                            \n",
       "16709                                          -0.128080                                                            \n",
       "16710                                          -0.128080                                                            \n",
       "16711                                          -0.112861                                                            \n",
       "16712                                          -0.051985                                                            \n",
       "\n",
       "[16644 rows x 2 columns]"
      ]
     },
     "execution_count": 29,
     "metadata": {},
     "output_type": "execute_result"
    }
   ],
   "source": [
    "from sklearn.preprocessing import StandardScaler\n",
    "\n",
    "scaler = StandardScaler()\n",
    "dfs    = pd.DataFrame(scaler.fit_transform(dataset_new),\n",
    "                      columns=dataset_new.columns,\n",
    "                      index=dataset_new.index)\n",
    "\n",
    "dfs"
   ]
  },
  {
   "cell_type": "code",
   "execution_count": 30,
   "metadata": {},
   "outputs": [
    {
     "name": "stdout",
     "output_type": "stream",
     "text": [
      "[[ 0.79508397  0.2523956 ]\n",
      " [ 0.18191094  0.02411033]\n",
      " [ 0.67244937 -0.05198476]\n",
      " ...\n",
      " [-0.30862748 -0.12807986]\n",
      " [ 1.77616081 -0.11286084]\n",
      " [-0.43126208 -0.05198476]]\n"
     ]
    }
   ],
   "source": [
    "scaler = StandardScaler()\n",
    "scaler.fit(dfs)\n",
    "dataset = scaler.transform(dfs)\n",
    "print(scaler.transform(dfs))"
   ]
  },
  {
   "cell_type": "code",
   "execution_count": 31,
   "metadata": {},
   "outputs": [
    {
     "name": "stdout",
     "output_type": "stream",
     "text": [
      "[[ 0.79508397  0.2523956 ]\n",
      " [ 0.18191094  0.02411033]\n",
      " [ 0.67244937 -0.05198476]\n",
      " ...\n",
      " [-0.30862748 -0.12807986]\n",
      " [ 1.77616081 -0.11286084]\n",
      " [-0.43126208 -0.05198476]]\n"
     ]
    }
   ],
   "source": [
    "scaler = StandardScaler()\n",
    "scaler.fit(dataset_new)\n",
    "dataset = scaler.transform(dataset_new)\n",
    "print(scaler.transform(dataset_new))"
   ]
  },
  {
   "cell_type": "code",
   "execution_count": 32,
   "metadata": {},
   "outputs": [],
   "source": [
    "lele = pd.DataFrame(dataset_new)"
   ]
  },
  {
   "cell_type": "code",
   "execution_count": 33,
   "metadata": {},
   "outputs": [],
   "source": [
    "X = lele.iloc[:, 0:1].values"
   ]
  },
  {
   "cell_type": "code",
   "execution_count": 34,
   "metadata": {},
   "outputs": [
    {
     "data": {
      "text/html": [
       "<div>\n",
       "<style scoped>\n",
       "    .dataframe tbody tr th:only-of-type {\n",
       "        vertical-align: middle;\n",
       "    }\n",
       "\n",
       "    .dataframe tbody tr th {\n",
       "        vertical-align: top;\n",
       "    }\n",
       "\n",
       "    .dataframe thead th {\n",
       "        text-align: right;\n",
       "    }\n",
       "</style>\n",
       "<table border=\"1\" class=\"dataframe\">\n",
       "  <thead>\n",
       "    <tr style=\"text-align: right;\">\n",
       "      <th></th>\n",
       "      <th>1. Qual a sua idade ?</th>\n",
       "      <th>23. Até quanto você pagaria (mensalmente em R$) para consumir conteúdos exclusivos do seu podcast favorito?</th>\n",
       "    </tr>\n",
       "  </thead>\n",
       "  <tbody>\n",
       "    <tr>\n",
       "      <th>count</th>\n",
       "      <td>16644.000000</td>\n",
       "      <td>15204.000000</td>\n",
       "    </tr>\n",
       "    <tr>\n",
       "      <th>mean</th>\n",
       "      <td>28.516643</td>\n",
       "      <td>16.831553</td>\n",
       "    </tr>\n",
       "    <tr>\n",
       "      <th>std</th>\n",
       "      <td>8.154550</td>\n",
       "      <td>131.418842</td>\n",
       "    </tr>\n",
       "    <tr>\n",
       "      <th>min</th>\n",
       "      <td>10.000000</td>\n",
       "      <td>-1000.000000</td>\n",
       "    </tr>\n",
       "    <tr>\n",
       "      <th>25%</th>\n",
       "      <td>23.000000</td>\n",
       "      <td>5.000000</td>\n",
       "    </tr>\n",
       "    <tr>\n",
       "      <th>50%</th>\n",
       "      <td>27.000000</td>\n",
       "      <td>10.000000</td>\n",
       "    </tr>\n",
       "    <tr>\n",
       "      <th>75%</th>\n",
       "      <td>33.000000</td>\n",
       "      <td>20.000000</td>\n",
       "    </tr>\n",
       "    <tr>\n",
       "      <th>max</th>\n",
       "      <td>222.000000</td>\n",
       "      <td>10000.000000</td>\n",
       "    </tr>\n",
       "  </tbody>\n",
       "</table>\n",
       "</div>"
      ],
      "text/plain": [
       "       1. Qual a sua idade ?  \\\n",
       "count           16644.000000   \n",
       "mean               28.516643   \n",
       "std                 8.154550   \n",
       "min                10.000000   \n",
       "25%                23.000000   \n",
       "50%                27.000000   \n",
       "75%                33.000000   \n",
       "max               222.000000   \n",
       "\n",
       "       23. Até quanto você pagaria (mensalmente em R$) para consumir conteúdos exclusivos do seu podcast favorito?  \n",
       "count                                       15204.000000                                                            \n",
       "mean                                           16.831553                                                            \n",
       "std                                           131.418842                                                            \n",
       "min                                         -1000.000000                                                            \n",
       "25%                                             5.000000                                                            \n",
       "50%                                            10.000000                                                            \n",
       "75%                                            20.000000                                                            \n",
       "max                                         10000.000000                                                            "
      ]
     },
     "execution_count": 34,
     "metadata": {},
     "output_type": "execute_result"
    }
   ],
   "source": [
    "lele.describe()"
   ]
  },
  {
   "cell_type": "markdown",
   "metadata": {},
   "source": [
    "## Criando e treinando o Kmeans"
   ]
  },
  {
   "cell_type": "markdown",
   "metadata": {},
   "source": [
    "Defini que seriam utilizados 6 clusters no total"
   ]
  },
  {
   "cell_type": "code",
   "execution_count": 35,
   "metadata": {},
   "outputs": [],
   "source": [
    "from sklearn import cluster\n",
    "\n",
    "kmeans = cluster.KMeans(n_clusters=6)\n",
    "clusters = kmeans.fit(X)"
   ]
  },
  {
   "cell_type": "code",
   "execution_count": 36,
   "metadata": {},
   "outputs": [
    {
     "data": {
      "text/plain": [
       "array([[35.],\n",
       "       [30.],\n",
       "       [34.],\n",
       "       ...,\n",
       "       [26.],\n",
       "       [43.],\n",
       "       [25.]])"
      ]
     },
     "execution_count": 36,
     "metadata": {},
     "output_type": "execute_result"
    }
   ],
   "source": [
    "X"
   ]
  },
  {
   "cell_type": "code",
   "execution_count": 37,
   "metadata": {},
   "outputs": [
    {
     "data": {
      "text/plain": [
       "KMeans(n_clusters=6)"
      ]
     },
     "execution_count": 37,
     "metadata": {},
     "output_type": "execute_result"
    }
   ],
   "source": [
    "clusters"
   ]
  },
  {
   "cell_type": "markdown",
   "metadata": {},
   "source": [
    "### Vendo quais são os cluters centrais"
   ]
  },
  {
   "cell_type": "code",
   "execution_count": 38,
   "metadata": {},
   "outputs": [
    {
     "data": {
      "text/plain": [
       "array([[ 26.37368723],\n",
       "       [ 38.94046008],\n",
       "       [ 20.34504261],\n",
       "       [ 50.37989779],\n",
       "       [187.75      ],\n",
       "       [ 32.20089757]])"
      ]
     },
     "execution_count": 38,
     "metadata": {},
     "output_type": "execute_result"
    }
   ],
   "source": [
    "clusters.cluster_centers_"
   ]
  },
  {
   "cell_type": "code",
   "execution_count": 39,
   "metadata": {},
   "outputs": [
    {
     "data": {
      "text/plain": [
       "87084.21383878519"
      ]
     },
     "execution_count": 39,
     "metadata": {},
     "output_type": "execute_result"
    }
   ],
   "source": [
    "clusters.inertia_"
   ]
  },
  {
   "cell_type": "code",
   "execution_count": 40,
   "metadata": {},
   "outputs": [
    {
     "data": {
      "text/plain": [
       "array([5, 5, 5, ..., 0, 1, 0])"
      ]
     },
     "execution_count": 40,
     "metadata": {},
     "output_type": "execute_result"
    }
   ],
   "source": [
    "clusters.labels_"
   ]
  },
  {
   "cell_type": "code",
   "execution_count": 41,
   "metadata": {},
   "outputs": [
    {
     "data": {
      "image/png": "[encoded data removed]",
      "text/plain": [
       "<Figure size 432x288 with 1 Axes>"
      ]
     },
     "metadata": {
      "needs_background": "light"
     },
     "output_type": "display_data"
    }
   ],
   "source": [
    "from matplotlib import pyplot as plt\n",
    "\n",
    "plt.scatter(dataset_new['1. Qual a sua idade ?'].values,\n",
    "            dataset_new['23. Até quanto você pagaria (mensalmente em R$) para consumir conteúdos exclusivos do seu podcast favorito?'].values,\n",
    "            c=clusters.labels_, \n",
    "            cmap='rainbow')\n",
    "\n",
    "plt.scatter(clusters.cluster_centers_[:, 0],\n",
    "            clusters.cluster_centers_[:],\n",
    "            color='black') \n",
    "\n",
    "plt.show()"
   ]
  },
  {
   "cell_type": "markdown",
   "metadata": {},
   "source": [
    "## Analisando o valor de K utilizando o método do cotovelo na inercia"
   ]
  },
  {
   "cell_type": "markdown",
   "metadata": {},
   "source": [
    "Como podemos visualizar, o melhor valor para K é 2, tendo em vista que através do metodo elbow podemos ver que nele o aumento no número de clusters não significa uma grande diminuição no diâmetro."
   ]
  },
  {
   "cell_type": "code",
   "execution_count": 42,
   "metadata": {},
   "outputs": [
    {
     "name": "stdout",
     "output_type": "stream",
     "text": [
      "1 1106704.38999038\n",
      "2 461903.5618565291\n",
      "3 283475.58825597557\n",
      "4 198888.52676306412\n",
      "5 128492.27016969293\n",
      "6 87258.04206290937\n",
      "7 65191.014845943675\n",
      "8 50592.2848563161\n",
      "9 40542.08903540804\n",
      "10 33435.12028850889\n"
     ]
    },
    {
     "data": {
      "image/png": "[encoded data removed]",
      "text/plain": [
       "<Figure size 432x288 with 1 Axes>"
      ]
     },
     "metadata": {
      "needs_background": "light"
     },
     "output_type": "display_data"
    }
   ],
   "source": [
    "from sklearn.cluster import KMeans\n",
    "wcss = []\n",
    " \n",
    "for i in range(1, 11):\n",
    "    kmeans = KMeans(n_clusters = i)\n",
    "    kmeans.fit(X)\n",
    "    print (i,kmeans.inertia_)\n",
    "    wcss.append(kmeans.inertia_)\n",
    "plt.plot(range(1, 11), wcss)\n",
    "plt.title('O Metodo Elbow')\n",
    "plt.xlabel('Número de Clusters')\n",
    "plt.ylabel('WSS')\n",
    "plt.show()"
   ]
  },
  {
   "cell_type": "markdown",
   "metadata": {},
   "source": [
    "## Implementação do modelo hierárquico"
   ]
  },
  {
   "cell_type": "code",
   "execution_count": 43,
   "metadata": {},
   "outputs": [],
   "source": [
    "from sklearn.cluster import AgglomerativeClustering \n",
    "\n",
    "model = AgglomerativeClustering(distance_threshold=0, \n",
    "                                n_clusters=None,\n",
    "                                linkage='single')\n",
    "\n",
    "ac = model.fit(X)\n",
    "clusters = ac.children_"
   ]
  },
  {
   "cell_type": "code",
   "execution_count": 44,
   "metadata": {},
   "outputs": [
    {
     "data": {
      "text/plain": [
       "AgglomerativeClustering(distance_threshold=0, linkage='single', n_clusters=None)"
      ]
     },
     "execution_count": 44,
     "metadata": {},
     "output_type": "execute_result"
    }
   ],
   "source": [
    "ac"
   ]
  },
  {
   "cell_type": "code",
   "execution_count": 46,
   "metadata": {},
   "outputs": [
    {
     "name": "stdout",
     "output_type": "stream",
     "text": [
      "[[    0    24]\n",
      " [16644    56]\n",
      " [16645   104]\n",
      " ...\n",
      " [ 4072 12694]\n",
      " [33284 33283]\n",
      " [33282 33285]]\n"
     ]
    }
   ],
   "source": [
    "print(clusters)"
   ]
  },
  {
   "cell_type": "code",
   "execution_count": 47,
   "metadata": {},
   "outputs": [
    {
     "data": {
      "image/png": "[encoded data removed]",
      "text/plain": [
       "<Figure size 432x288 with 1 Axes>"
      ]
     },
     "metadata": {
      "needs_background": "light"
     },
     "output_type": "display_data"
    }
   ],
   "source": [
    "import numpy as np\n",
    "\n",
    "from matplotlib import pyplot as plt\n",
    "from scipy.cluster.hierarchy import dendrogram\n",
    "\n",
    "def plot_dendrogram(model, **kwargs):\n",
    "    # Create linkage matrix and then plot the dendrogram\n",
    "    # create the counts of samples under each node\n",
    "    counts = np.zeros(model.children_.shape[0])\n",
    "    n_samples = len(model.labels_)\n",
    "    for i, merge in enumerate(model.children_):\n",
    "        current_count = 0\n",
    "        for child_idx in merge:\n",
    "            if child_idx < n_samples:\n",
    "                current_count += 1  # leaf node\n",
    "            else:\n",
    "                current_count += counts[child_idx - n_samples]\n",
    "        counts[i] = current_count\n",
    "    linkage_matrix = np.column_stack([model.children_, model.distances_, counts]).astype(float)\n",
    "    # Plot the corresponding dendrogram\n",
    "    dendrogram(linkage_matrix, **kwargs)\n",
    "\n",
    "\n",
    "plt.title('Dendograma')\n",
    "plot_dendrogram(model, truncate_mode='level', p=10)\n",
    "plt.xlabel(\"Number of points in node (or index of point if no parenthesis).\")\n",
    "plt.show()"
   ]
  },
  {
   "cell_type": "markdown",
   "metadata": {},
   "source": [
    "## Implementação de técnica diferenciada: DBSCAN"
   ]
  },
  {
   "cell_type": "markdown",
   "metadata": {},
   "source": [
    "### calculando a distância de cada ponto até seu vizinho mais próximo usando o NearestNeighbors"
   ]
  },
  {
   "cell_type": "code",
   "execution_count": 156,
   "metadata": {},
   "outputs": [],
   "source": [
    "neighbors = NearestNeighbors(n_neighbors=2)\n",
    "nbrs = neighbors.fit(X)\n",
    "\n",
    "distances, indices = nbrs.kneighbors(X)"
   ]
  },
  {
   "cell_type": "code",
   "execution_count": 157,
   "metadata": {},
   "outputs": [
    {
     "data": {
      "text/plain": [
       "array([[ 7158, 11003],\n",
       "       [ 3964,  6476],\n",
       "       [ 4398,   720],\n",
       "       ...,\n",
       "       [ 4549,  7322],\n",
       "       [ 1785, 15579],\n",
       "       [ 6355,  7884]], dtype=int64)"
      ]
     },
     "execution_count": 157,
     "metadata": {},
     "output_type": "execute_result"
    }
   ],
   "source": [
    "indices"
   ]
  },
  {
   "cell_type": "markdown",
   "metadata": {},
   "source": [
    "### O ponto de épsilon ideal é 0.6"
   ]
  },
  {
   "cell_type": "code",
   "execution_count": 158,
   "metadata": {},
   "outputs": [
    {
     "data": {
      "text/plain": [
       "[<matplotlib.lines.Line2D at 0x1d4025233d0>]"
      ]
     },
     "execution_count": 158,
     "metadata": {},
     "output_type": "execute_result"
    },
    {
     "data": {
      "image/png": "[encoded data removed]",
      "text/plain": [
       "<Figure size 432x288 with 1 Axes>"
      ]
     },
     "metadata": {
      "needs_background": "light"
     },
     "output_type": "display_data"
    }
   ],
   "source": [
    "distances = np.sort(distances, axis=0)\n",
    "distances = distances[:, 1][5:-5]\n",
    "plt.plot(distances)"
   ]
  },
  {
   "cell_type": "markdown",
   "metadata": {},
   "source": [
    "## Treinando o DBSCAN baseado no valor de épsilon"
   ]
  },
  {
   "cell_type": "code",
   "execution_count": 173,
   "metadata": {},
   "outputs": [
    {
     "data": {
      "text/plain": [
       "DBSCAN(eps=0.6)"
      ]
     },
     "execution_count": 173,
     "metadata": {},
     "output_type": "execute_result"
    }
   ],
   "source": [
    "from sklearn.cluster import DBSCAN\n",
    "from sklearn.neighbors import NearestNeighbors\n",
    "from sklearn.metrics.cluster import homogeneity_score\n",
    "\n",
    "dbscan = DBSCAN(eps=0.6, min_samples=5).fit(X)\n",
    "dbscan"
   ]
  },
  {
   "cell_type": "markdown",
   "metadata": {},
   "source": [
    "## Mostrando os labels"
   ]
  },
  {
   "cell_type": "code",
   "execution_count": 174,
   "metadata": {},
   "outputs": [
    {
     "name": "stdout",
     "output_type": "stream",
     "text": [
      "[ 0  1  2 ... 15 16  3]\n"
     ]
    }
   ],
   "source": [
    "labels = dbscan.labels_\n",
    "print(labels)"
   ]
  },
  {
   "cell_type": "markdown",
   "metadata": {},
   "source": [
    "## Estimando os números de clustering e ruidos"
   ]
  },
  {
   "cell_type": "code",
   "execution_count": 175,
   "metadata": {},
   "outputs": [],
   "source": [
    "n_clusters_ = len(set(labels)) - (1 if -1 in labels else 0)\n",
    "n_noise_ = list(labels).count(-1)"
   ]
  },
  {
   "cell_type": "code",
   "execution_count": 176,
   "metadata": {},
   "outputs": [
    {
     "name": "stdout",
     "output_type": "stream",
     "text": [
      "Estimated number of clusters: 51\n",
      "Estimated number of noise points: 27\n"
     ]
    }
   ],
   "source": [
    "from sklearn.metrics.cluster import homogeneity_score\n",
    "\n",
    "print('Estimated number of clusters: %d' % n_clusters_)\n",
    "print('Estimated number of noise points: %d' % n_noise_)"
   ]
  },
  {
   "cell_type": "markdown",
   "metadata": {},
   "source": [
    "## Plotando os labels"
   ]
  },
  {
   "cell_type": "code",
   "execution_count": 163,
   "metadata": {},
   "outputs": [],
   "source": [
    "colors = ['red', 'blue', 'black']\n",
    "vectorizer = np.vectorize(lambda x: colors[x % len(colors)])"
   ]
  },
  {
   "cell_type": "code",
   "execution_count": 164,
   "metadata": {},
   "outputs": [
    {
     "data": {
      "text/plain": [
       "<matplotlib.collections.PathCollection at 0x1d402763f70>"
      ]
     },
     "execution_count": 164,
     "metadata": {},
     "output_type": "execute_result"
    },
    {
     "data": {
      "image/png": "[encoded data removed]",
      "text/plain": [
       "<Figure size 432x288 with 1 Axes>"
      ]
     },
     "metadata": {
      "needs_background": "light"
     },
     "output_type": "display_data"
    }
   ],
   "source": [
    "plt.scatter(X[0:], X[:,0], c=vectorizer(labels))"
   ]
  },
  {
   "cell_type": "code",
   "execution_count": null,
   "metadata": {},
   "outputs": [],
   "source": []
  }
 ],
 "metadata": {
  "kernelspec": {
   "display_name": "Python 3",
   "language": "python",
   "name": "python3"
  },
  "language_info": {
   "codemirror_mode": {
    "name": "ipython",
    "version": 3
   },
   "file_extension": ".py",
   "mimetype": "text/x-python",
   "name": "python",
   "nbconvert_exporter": "python",
   "pygments_lexer": "ipython3",
   "version": "3.8.3"
  }
 },
 "nbformat": 4,
 "nbformat_minor": 4
}
